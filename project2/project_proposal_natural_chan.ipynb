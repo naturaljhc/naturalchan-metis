{
 "cells": [
  {
   "cell_type": "markdown",
   "metadata": {},
   "source": [
    "# Project Proposal"
   ]
  },
  {
   "cell_type": "markdown",
   "metadata": {},
   "source": [
    "## Question/Need:\n",
    "* What is the question behind your analysis? What is the purpose of the model/system you plan to build?\n",
    "* Who benefits from exploring this question or building this model/system?"
   ]
  },
  {
   "cell_type": "markdown",
   "metadata": {},
   "source": [
    "Whether it is to cover mortgages or earn some money on the side, many people have opted to rent their home on AirBnB. My project will analyze the costs of AirBnB rentals in the San Francisco Bay Area to estimate costs for an individual rental. In doing so, I hope to answer several questions: First, what price should a host set for their home? What should a renter expect for a price at a given city/area in the Bay Area? What factors influence the cost and rating of a home on AirBnB the most?\n",
    "\n",
    "If time permits, I would also like to explore how this might influence the hotel industry. By doing so, I would like to find how a hotel should proceed in competing with AirBnB rentals. For example, what pricing is should a hotel provide given the estimated price of an AirBnB in the area? Or perhaps, what amenities should a hotel provide to better compete with local AirBnB rentals?"
   ]
  },
  {
   "cell_type": "markdown",
   "metadata": {},
   "source": [
    "## Data Description:\n",
    "* What dataset(s) do you plan to use, and how will you obtain the data?\n",
    "* What is an individual sample/unit of analysis in this project? What characteristics/features do you expect to work with?\n",
    "* If modeling, what will you predict as your target?"
   ]
  },
  {
   "cell_type": "markdown",
   "metadata": {},
   "source": [
    "I plan to work with AirBnB data within the Bay Area. To this end, I will designate areas in an AirBnB search and gather all homes that are available for rent in the next few months. An individual sample should include Title of Listing, # of Bathrooms, # of Bedrooms, Amenities, Rating, # of Reviews, Location, Date of Availability, and Price per Night. Each of these features should intuitively be important to work with for our purposes. In our model, we will attempt to predict prices of AirBnB rentals. If time allows, creating a separate model to predict the rating may also provide some valuable insight.\n",
    "\n",
    "Any additional time can be allocated to observing data from hotels.com and creating a separate model using said data. Gathering data on this will be slightly more difficult since a check-in and check-out date will need to be included in our search. Ultimately, an individual sample will include Hotel Name, # of Beds, Amenities/Property Highlights, Rating, # of Reviews, Location, Date of Availability, and Price per Night. We expect a sample of a hotel to look quite different from an AirBnB listing, but we hope to gather some valuable insights for hotels when predicting two separate locations - one using our AirBnB model and the other on our hotel model."
   ]
  },
  {
   "cell_type": "markdown",
   "metadata": {},
   "source": [
    "## Tools:\n",
    "* How do you intend to meet the tools requirement of the project?\n",
    "* Are you planning in advance to need or use additional tools beyond those required?"
   ]
  },
  {
   "cell_type": "markdown",
   "metadata": {},
   "source": [
    "I will use BeautifulSoup and Selenium when collecting data from AirBnB. Then I will use sci-kit for regression analysis on the data.\n",
    "\n",
    "Using LightGBM and XGBoost, I would also like to use gradient boosting to see if we can create a better model with our data. "
   ]
  },
  {
   "cell_type": "markdown",
   "metadata": {},
   "source": [
    "## MVP Goal:\n",
    "* What would a MVP Example look like for this project?"
   ]
  },
  {
   "cell_type": "markdown",
   "metadata": {},
   "source": [
    "At the bare minimum, our MVP should include a linear regression model to predict prices using one feature, ideally the location of the listing. To do so, we may need to adjust the addresses of each listing. In the simplest case, we would use the zip code of the listing as our feature."
   ]
  }
 ],
 "metadata": {
  "kernelspec": {
   "display_name": "Python 3",
   "language": "python",
   "name": "python3"
  },
  "language_info": {
   "codemirror_mode": {
    "name": "ipython",
    "version": 3
   },
   "file_extension": ".py",
   "mimetype": "text/x-python",
   "name": "python",
   "nbconvert_exporter": "python",
   "pygments_lexer": "ipython3",
   "version": "3.7.0"
  }
 },
 "nbformat": 4,
 "nbformat_minor": 2
}
