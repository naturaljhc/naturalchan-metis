{
 "cells": [
  {
   "cell_type": "code",
   "execution_count": 1,
   "id": "prostate-convergence",
   "metadata": {},
   "outputs": [],
   "source": [
    "import os\n",
    "import matplotlib.pyplot as plt\n",
    "import numpy as np\n",
    "from keras.preprocessing.image import load_img\n",
    "from keras.preprocessing.image import img_to_array\n",
    "from matplotlib.image import imread\n",
    "#from matplotlib import pyplot\n",
    "#from matplotlib.image import imread"
   ]
  },
  {
   "cell_type": "code",
   "execution_count": 2,
   "id": "treated-roommate",
   "metadata": {},
   "outputs": [],
   "source": [
    "train_dir = 'train/'\n",
    "test_dir = 'test/'\n",
    "sub_dirs = ['no_glasses/', 'eyeglasses/', 'sunglasses/']"
   ]
  },
  {
   "cell_type": "code",
   "execution_count": 3,
   "id": "appropriate-roman",
   "metadata": {},
   "outputs": [],
   "source": [
    "def img_import(file, photos):\n",
    "    photo = load_img(file, target_size = (224,224))\n",
    "    photo = img_to_array(photo)\n",
    "    photos.append(photo)\n",
    "    del photo\n",
    "    return photos"
   ]
  },
  {
   "cell_type": "code",
   "execution_count": 4,
   "id": "formed-species",
   "metadata": {},
   "outputs": [
    {
     "name": "stdout",
     "output_type": "stream",
     "text": [
      "First subdirectory completed\n",
      "Second subdirectory completed\n",
      "Third subdirectory completed\n"
     ]
    }
   ],
   "source": [
    "train_photos, train_labels = [], []\n",
    "for img in os.listdir(train_dir + sub_dirs[0]):\n",
    "    file = train_dir + sub_dirs[0] + img\n",
    "    img_import(file, train_photos)\n",
    "    train_labels.append(0)\n",
    "print(\"First subdirectory completed\")\n",
    "for img in os.listdir(train_dir + sub_dirs[1]):\n",
    "    file = train_dir + sub_dirs[1] + img\n",
    "    img_import(file, train_photos)\n",
    "    train_labels.append(1)\n",
    "print(\"Second subdirectory completed\")\n",
    "for img in os.listdir(train_dir + sub_dirs[2]):\n",
    "    file = train_dir + sub_dirs[2] + img\n",
    "    img_import(file, train_photos)\n",
    "    train_labels.append(2)\n",
    "print(\"Third subdirectory completed\")"
   ]
  },
  {
   "cell_type": "code",
   "execution_count": 5,
   "id": "registered-electronics",
   "metadata": {},
   "outputs": [],
   "source": [
    "train_photos = np.asarray(train_photos)\n",
    "train_labels = np.asarray(train_labels)\n",
    "np.save('train_photos.npy', train_photos)\n",
    "np.save('train_labels.npy', train_labels)"
   ]
  },
  {
   "cell_type": "code",
   "execution_count": 6,
   "id": "voluntary-maine",
   "metadata": {},
   "outputs": [
    {
     "name": "stdout",
     "output_type": "stream",
     "text": [
      "First subdirectory completed\n",
      "Second subdirectory completed\n",
      "Third subdirectory completed\n"
     ]
    }
   ],
   "source": [
    "test_photos, test_labels, img_files = [], [], []\n",
    "for img in os.listdir(test_dir + sub_dirs[0]):\n",
    "    file = test_dir + sub_dirs[0] + img\n",
    "    img_import(file, test_photos)\n",
    "    test_labels.append(0)\n",
    "    img_files.append(img)\n",
    "print(\"First subdirectory completed\")\n",
    "for img in os.listdir(test_dir + sub_dirs[1]):\n",
    "    file = test_dir + sub_dirs[1] + img\n",
    "    img_import(file, test_photos)\n",
    "    test_labels.append(1)\n",
    "    img_files.append(img)\n",
    "print(\"Second subdirectory completed\")\n",
    "for img in os.listdir(test_dir + sub_dirs[2]):\n",
    "    file = test_dir + sub_dirs[2] + img\n",
    "    img_import(file, test_photos)\n",
    "    test_labels.append(2)\n",
    "    img_files.append(img)\n",
    "print(\"Third subdirectory completed\")"
   ]
  },
  {
   "cell_type": "code",
   "execution_count": 7,
   "id": "bottom-sense",
   "metadata": {},
   "outputs": [],
   "source": [
    "test_photos = np.asarray(test_photos)\n",
    "test_labels = np.asarray(test_labels)\n",
    "img_files = np.asarray(img_files)\n",
    "np.save('test_photos.npy', test_photos)\n",
    "np.save('test_labels.npy', test_labels)\n",
    "np.save('img_files.npy', img_files)"
   ]
  },
  {
   "cell_type": "code",
   "execution_count": null,
   "id": "scientific-prague",
   "metadata": {},
   "outputs": [],
   "source": []
  }
 ],
 "metadata": {
  "kernelspec": {
   "display_name": "Python 3",
   "language": "python",
   "name": "python3"
  },
  "language_info": {
   "codemirror_mode": {
    "name": "ipython",
    "version": 3
   },
   "file_extension": ".py",
   "mimetype": "text/x-python",
   "name": "python",
   "nbconvert_exporter": "python",
   "pygments_lexer": "ipython3",
   "version": "3.9.7"
  }
 },
 "nbformat": 4,
 "nbformat_minor": 5
}
