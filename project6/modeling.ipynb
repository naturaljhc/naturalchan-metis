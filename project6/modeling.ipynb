{
 "cells": [
  {
   "cell_type": "code",
   "execution_count": 1,
   "id": "characteristic-browse",
   "metadata": {},
   "outputs": [],
   "source": [
    "import matplotlib.pyplot as plt\n",
    "import numpy as np\n",
    "import pandas as pd\n",
    "from sklearn.model_selection import train_test_split\n",
    "from keras.applications.vgg16 import VGG16\n",
    "from keras.callbacks import EarlyStopping\n",
    "from keras.utils import np_utils\n",
    "from keras.models import Sequential\n",
    "from keras.layers import Conv2D, MaxPooling2D, Dense, Flatten, InputLayer\n",
    "from keras.losses import categorical_crossentropy\n",
    "from keras.preprocessing.image import ImageDataGenerator\n",
    "from tensorflow.keras.optimizers import Adam, SGD\n",
    "from torchvision import transforms\n",
    "from torchvision import datasets\n",
    "from torch.utils.data import DataLoader"
   ]
  },
  {
   "cell_type": "code",
   "execution_count": 2,
   "id": "muslim-valuable",
   "metadata": {},
   "outputs": [],
   "source": [
    "train_photos = np.load('train_photos.npy')\n",
    "train_labels = np.load('train_labels.npy')\n",
    "test_photos = np.load('test_photos.npy')\n",
    "test_labels = np.load('test_labels.npy')\n",
    "img_files = np.load('img_files.npy')"
   ]
  },
  {
   "cell_type": "code",
   "execution_count": 3,
   "id": "norman-international",
   "metadata": {},
   "outputs": [],
   "source": [
    "X_train, X_test, y_train, y_test = train_test_split(train_photos, train_labels, test_size = .2, random_state = 42)\n",
    "y_train_cat = np_utils.to_categorical(y_train)\n",
    "y_test_cat = np_utils.to_categorical(y_test)\n",
    "test_cat = np_utils.to_categorical(test_labels)\n",
    "del train_photos, train_labels"
   ]
  },
  {
   "cell_type": "code",
   "execution_count": 5,
   "id": "suitable-valve",
   "metadata": {},
   "outputs": [],
   "source": [
    "def VGG():\n",
    "    model = Sequential()\n",
    "    model.add(Conv2D(filters = 32, kernel_size = (3, 3),\n",
    "                     activation = 'relu', padding = 'same',\n",
    "                     input_shape = (224, 224, 3)))\n",
    "    model.add(Conv2D(filters = 32, kernel_size = (3, 3),\n",
    "                     activation = 'relu', padding = 'same'))\n",
    "    model.add(MaxPooling2D(pool_size = (2, 2), strides = (2, 2)))\n",
    "#     model.add(Conv2D(filters = 64, kernel_size = (3, 3),\n",
    "#                      activation = 'relu', padding = 'same'))\n",
    "#     model.add(Conv2D(filters = 64, kernel_size = (3, 3),\n",
    "#                      activation = 'relu', padding = 'same'))\n",
    "#     model.add(MaxPooling2D(pool_size = (2, 2), strides = (2, 2)))\n",
    "#     model.add(Conv2D(filters = 128, kernel_size = (3, 3),\n",
    "#                      activation = 'relu', padding = 'same'))\n",
    "#     model.add(Conv2D(filters = 128, kernel_size = (3, 3),\n",
    "#                      activation = 'relu', padding = 'same'))\n",
    "#     model.add(Conv2D(filters = 128, kernel_size = (3, 3),\n",
    "#                      activation = 'relu', padding = 'same'))\n",
    "#     model.add(MaxPooling2D(pool_size = (2, 2), strides = (2, 2)))\n",
    "#     model.add(Conv2D(filters = 512, kernel_size = (3, 3),\n",
    "#                      activation = 'relu', padding = 'same'))\n",
    "#     model.add(Conv2D(filters = 512, kernel_size = (3, 3),\n",
    "#                      activation = 'relu', padding = 'same'))\n",
    "#     model.add(Conv2D(filters = 512, kernel_size = (3, 3),\n",
    "#                      activation = 'relu', padding = 'same'))\n",
    "#     model.add(MaxPooling2D(pool_size = (2, 2), strides = (2, 2)))\n",
    "#     model.add(Conv2D(filters = 512, kernel_size = (3, 3),\n",
    "#                      activation = 'relu', padding = 'same'))\n",
    "#     model.add(Conv2D(filters = 512, kernel_size = (3, 3),\n",
    "#                      activation = 'relu', padding = 'same'))\n",
    "#     model.add(Conv2D(filters = 512, kernel_size = (3, 3),\n",
    "#                      activation = 'relu', padding = 'same'))\n",
    "#     model.add(MaxPooling2D(pool_size = (2, 2), strides = (2, 2)))\n",
    "    model.add(Flatten())\n",
    "    model.add(Dense(units = 32, activation = 'relu'))\n",
    "    model.add(Dense(units = 32, activation = 'relu'))\n",
    "    model.add(Dense(units = 3, activation = 'softmax'))\n",
    "    opt = Adam(learning_rate = 0.001)\n",
    "    model.compile(optimizer = opt, loss = 'categorical_crossentropy', metrics = ['accuracy'])\n",
    "    return model"
   ]
  },
  {
   "cell_type": "code",
   "execution_count": 10,
   "id": "smooth-turkish",
   "metadata": {},
   "outputs": [
    {
     "name": "stdout",
     "output_type": "stream",
     "text": [
      "Epoch 1/1000\n",
      "62/62 [==============================] - 110s 2s/step - loss: 0.9365 - accuracy: 0.5672 - val_loss: 81.0951 - val_accuracy: 0.7688\n",
      "Epoch 2/1000\n",
      "62/62 [==============================] - 121s 2s/step - loss: 0.4439 - accuracy: 0.8192 - val_loss: 22.8142 - val_accuracy: 0.9083\n",
      "Epoch 3/1000\n",
      "62/62 [==============================] - 121s 2s/step - loss: 0.2760 - accuracy: 0.9035 - val_loss: 17.1557 - val_accuracy: 0.9646\n",
      "Epoch 4/1000\n",
      "62/62 [==============================] - 117s 2s/step - loss: 0.1492 - accuracy: 0.9535 - val_loss: 48.7548 - val_accuracy: 0.9000\n",
      "Epoch 5/1000\n",
      "62/62 [==============================] - 115s 2s/step - loss: 0.1224 - accuracy: 0.9657 - val_loss: 15.6567 - val_accuracy: 0.9521\n",
      "Epoch 6/1000\n",
      "62/62 [==============================] - 115s 2s/step - loss: 0.0965 - accuracy: 0.9697 - val_loss: 5.0988 - val_accuracy: 0.9812\n",
      "Epoch 7/1000\n",
      "62/62 [==============================] - 115s 2s/step - loss: 0.0840 - accuracy: 0.9732 - val_loss: 7.7548 - val_accuracy: 0.9792\n",
      "Epoch 8/1000\n",
      "62/62 [==============================] - 115s 2s/step - loss: 0.0715 - accuracy: 0.9803 - val_loss: 7.3405 - val_accuracy: 0.9854\n",
      "Epoch 9/1000\n",
      "62/62 [==============================] - 116s 2s/step - loss: 0.0655 - accuracy: 0.9788 - val_loss: 2.1277 - val_accuracy: 0.9937\n",
      "Epoch 10/1000\n",
      "62/62 [==============================] - 115s 2s/step - loss: 0.0643 - accuracy: 0.9778 - val_loss: 4.7086 - val_accuracy: 0.9875\n",
      "Epoch 11/1000\n",
      "62/62 [==============================] - 117s 2s/step - loss: 0.0853 - accuracy: 0.9717 - val_loss: 19.0486 - val_accuracy: 0.9604\n",
      "Epoch 12/1000\n",
      "62/62 [==============================] - 114s 2s/step - loss: 0.0697 - accuracy: 0.9768 - val_loss: 4.2974 - val_accuracy: 0.9875\n",
      "Epoch 13/1000\n",
      "62/62 [==============================] - 112s 2s/step - loss: 0.0483 - accuracy: 0.9823 - val_loss: 3.9388 - val_accuracy: 0.9937\n",
      "Epoch 14/1000\n",
      "62/62 [==============================] - 112s 2s/step - loss: 0.0548 - accuracy: 0.9843 - val_loss: 4.2797 - val_accuracy: 0.9896\n",
      "Epoch 15/1000\n",
      "62/62 [==============================] - 111s 2s/step - loss: 0.0563 - accuracy: 0.9828 - val_loss: 9.8327 - val_accuracy: 0.9812\n",
      "Epoch 16/1000\n",
      "62/62 [==============================] - 112s 2s/step - loss: 0.0484 - accuracy: 0.9833 - val_loss: 20.0985 - val_accuracy: 0.9583\n",
      "Epoch 17/1000\n",
      "62/62 [==============================] - 112s 2s/step - loss: 0.0538 - accuracy: 0.9864 - val_loss: 2.7664 - val_accuracy: 0.9875\n",
      "Epoch 18/1000\n",
      "62/62 [==============================] - 111s 2s/step - loss: 0.0630 - accuracy: 0.9828 - val_loss: 111.0611 - val_accuracy: 0.8562\n",
      "Epoch 19/1000\n",
      "62/62 [==============================] - 112s 2s/step - loss: 0.0505 - accuracy: 0.9843 - val_loss: 14.1801 - val_accuracy: 0.9792\n"
     ]
    }
   ],
   "source": [
    "model = VGG()\n",
    "es = EarlyStopping(monitor = 'val_accuracy', patience = 10)\n",
    "aug = ImageDataGenerator(rescale = 1.0/255.0, \n",
    "                         rotation_range = 45,\n",
    "                         brightness_range = [0.2, 0.9],\n",
    "                         horizontal_flip = True,\n",
    "                         vertical_flip = True)\n",
    "history = model.fit(aug.flow(X_train, y_train_cat, batch_size = 32), \n",
    "                    steps_per_epoch = len(X_train)//32, \n",
    "                    validation_data = (X_test, y_test_cat), \n",
    "                    validation_steps = len(X_test)//32, \n",
    "                    validation_batch_size = 32,\n",
    "                    use_multiprocessing = True,\n",
    "                    epochs = 1000,\n",
    "                    callbacks = [es])"
   ]
  },
  {
   "cell_type": "code",
   "execution_count": 11,
   "id": "streaming-coordinate",
   "metadata": {},
   "outputs": [
    {
     "data": {
      "image/png": "[encoded data removed]",
      "text/plain": [
       "<Figure size 432x288 with 1 Axes>"
      ]
     },
     "metadata": {
      "needs_background": "light"
     },
     "output_type": "display_data"
    }
   ],
   "source": [
    "#plt.subplot(211)\n",
    "#plt.plot(ep.history['loss'], color = 'blue', label = 'train')\n",
    "#plt.plot(ep.history['val_loss'], color = 'orange', label = 'test')\n",
    "#plt.subplot(212)\n",
    "plt.title('Classification Accuracy', fontsize = 24)\n",
    "plt.plot(history.history['accuracy'], color = 'blue', label = 'train')\n",
    "plt.plot(history.history['val_accuracy'], color = 'orange', label = 'test')\n",
    "plt.xlabel('Epoch', fontsize = 18)\n",
    "plt.ylabel('Accuracy', fontsize = 18)\n",
    "plt.legend(['Accuracy', 'Validation Accuracy'], fontsize = 12)\n",
    "plt.savefig(\"vgg1_da.png\")"
   ]
  },
  {
   "cell_type": "code",
   "execution_count": 12,
   "id": "received-mills",
   "metadata": {},
   "outputs": [],
   "source": [
    "test_pred = np.around(model.predict(test_photos))"
   ]
  },
  {
   "cell_type": "code",
   "execution_count": 13,
   "id": "pleasant-briefing",
   "metadata": {},
   "outputs": [
    {
     "name": "stdout",
     "output_type": "stream",
     "text": [
      "11056.png: Actual: [1. 0. 0.], Pred: [0. 0. 1.]\n",
      "14142.png: Actual: [1. 0. 0.], Pred: [0. 0. 1.]\n",
      "11007.png: Actual: [1. 0. 0.], Pred: [0. 0. 1.]\n",
      "00106.png: Actual: [1. 0. 0.], Pred: [0. 0. 1.]\n",
      "00134.png: Actual: [1. 0. 0.], Pred: [0. 0. 1.]\n",
      "11000.png: Actual: [1. 0. 0.], Pred: [0. 0. 1.]\n",
      "14047.png: Actual: [1. 0. 0.], Pred: [0. 0. 1.]\n",
      "11061.png: Actual: [1. 0. 0.], Pred: [0. 0. 1.]\n",
      "00132.png: Actual: [1. 0. 0.], Pred: [0. 0. 1.]\n",
      "11038.png: Actual: [1. 0. 0.], Pred: [0. 0. 1.]\n",
      "43014.png: Actual: [1. 0. 0.], Pred: [0. 0. 1.]\n",
      "00112.png: Actual: [1. 0. 0.], Pred: [0. 0. 1.]\n",
      "14108.png: Actual: [1. 0. 0.], Pred: [0. 1. 0.]\n",
      "14125.png: Actual: [1. 0. 0.], Pred: [0. 0. 1.]\n",
      "11008.png: Actual: [1. 0. 0.], Pred: [0. 0. 1.]\n",
      "14098.png: Actual: [1. 0. 0.], Pred: [0. 0. 1.]\n",
      "00031.png: Actual: [0. 1. 0.], Pred: [0. 0. 1.]\n",
      "11333.png: Actual: [0. 1. 0.], Pred: [0. 0. 1.]\n",
      "00024.png: Actual: [0. 1. 0.], Pred: [0. 0. 1.]\n",
      "11261.png: Actual: [0. 1. 0.], Pred: [0. 0. 1.]\n",
      "11353.png: Actual: [0. 1. 0.], Pred: [0. 0. 1.]\n",
      "11238.png: Actual: [0. 1. 0.], Pred: [0. 0. 1.]\n",
      "11280.png: Actual: [0. 1. 0.], Pred: [0. 0. 1.]\n",
      "11112.png: Actual: [0. 1. 0.], Pred: [0. 0. 1.]\n",
      "11230.png: Actual: [0. 1. 0.], Pred: [0. 0. 1.]\n",
      "11335.png: Actual: [0. 1. 0.], Pred: [0. 0. 1.]\n",
      "11450.png: Actual: [0. 1. 0.], Pred: [0. 0. 1.]\n",
      "11253.png: Actual: [0. 1. 0.], Pred: [0. 0. 1.]\n",
      "11076.png: Actual: [0. 1. 0.], Pred: [0. 0. 1.]\n",
      "11469.png: Actual: [0. 1. 0.], Pred: [0. 0. 1.]\n",
      "11033.png: Actual: [0. 1. 0.], Pred: [0. 0. 1.]\n",
      "11214.png: Actual: [0. 1. 0.], Pred: [0. 0. 1.]\n",
      "11279.png: Actual: [0. 1. 0.], Pred: [0. 0. 1.]\n",
      "11146.png: Actual: [0. 1. 0.], Pred: [0. 0. 1.]\n",
      "00173.png: Actual: [0. 1. 0.], Pred: [0. 0. 1.]\n",
      "0.7666666666666667\n"
     ]
    }
   ],
   "source": [
    "acc = 0\n",
    "for i in range(len(test_pred)):\n",
    "    if np.array_equiv(test_pred[i], test_cat[i]):\n",
    "        acc += 1\n",
    "    else:\n",
    "        print(f\"{img_files[i]}: Actual: {test_cat[i]}, Pred: {test_pred[i]}\")\n",
    "acc = acc/len(test_pred)\n",
    "print(acc)"
   ]
  },
  {
   "cell_type": "code",
   "execution_count": null,
   "id": "suffering-practice",
   "metadata": {},
   "outputs": [],
   "source": [
    "model1 = .8000\n",
    "model2 = .8133\n",
    "model3 = .84\n",
    "model4 = .88\n",
    "model5 = .64\n",
    "model6 = .8733"
   ]
  },
  {
   "cell_type": "code",
   "execution_count": 9,
   "id": "systematic-mixture",
   "metadata": {},
   "outputs": [],
   "source": [
    "base = VGG16(weights = 'imagenet', include_top = False, input_shape = (224, 224, 3))\n",
    "for layer in base.layers:\n",
    "    layer.trainable = False\n",
    "transfer = Sequential([InputLayer(input_shape = X_train.shape[1:]),\n",
    "                       base,\n",
    "                       Flatten(),\n",
    "                       Dense(256, activation = 'relu'),\n",
    "                       Dense(256, activation = 'relu'),\n",
    "                       Dense(3, activation = 'softmax')])\n",
    "transfer.compile(optimizer = 'adam', loss = 'categorical_crossentropy', metrics = ['accuracy'])"
   ]
  },
  {
   "cell_type": "code",
   "execution_count": null,
   "id": "sustainable-plant",
   "metadata": {},
   "outputs": [],
   "source": [
    "es = EarlyStopping(monitor = 'val_accuracy', patience = 10)\n",
    "aug = ImageDataGenerator(rescale = 1.0/255.0, \n",
    "                         rotation_range = 45,\n",
    "                         horizontal_flip = True,\n",
    "                         vertical_flip = True)\n",
    "eptr = transfer.fit(aug.flow(X_train, y_train_cat, batch_size = 32), \n",
    "                    steps_per_epoch = len(X_train)//32, \n",
    "                    validation_data = (X_test, y_test_cat), \n",
    "                    validation_steps = len(X_test)//32, \n",
    "                    validation_batch_size = 32,\n",
    "                    use_multiprocessing = True,\n",
    "                    epochs = 1000,\n",
    "                    callbacks = [es])"
   ]
  },
  {
   "cell_type": "code",
   "execution_count": 11,
   "id": "essential-graham",
   "metadata": {},
   "outputs": [
    {
     "data": {
      "image/png": "[encoded data removed]",
      "text/plain": [
       "<Figure size 432x288 with 1 Axes>"
      ]
     },
     "metadata": {
      "needs_background": "light"
     },
     "output_type": "display_data"
    }
   ],
   "source": [
    "#plt.subplot(211)\n",
    "#plt.plot(ep.history['loss'], color = 'blue', label = 'train')\n",
    "#plt.plot(ep.history['val_loss'], color = 'orange', label = 'test')\n",
    "#plt.subplot(212)\n",
    "plt.title('Classification Accuracy', fontsize = 24)\n",
    "plt.plot(eptr.history['accuracy'], color = 'blue', label = 'train')\n",
    "plt.plot(eptr.history['val_accuracy'], color = 'orange', label = 'test')\n",
    "plt.xlabel('Epoch', fontsize = 18)\n",
    "plt.ylabel('Accuracy', fontsize = 18)\n",
    "plt.legend(['Accuracy', 'Validation Accuracy'], fontsize = 12)\n",
    "plt.savefig(\"vggtransfer_esda_plot.png\")"
   ]
  },
  {
   "cell_type": "code",
   "execution_count": 13,
   "id": "fifteen-bonus",
   "metadata": {},
   "outputs": [],
   "source": [
    "test_pred = transfer.predict(test_photos).astype(int)"
   ]
  },
  {
   "cell_type": "code",
   "execution_count": 14,
   "id": "reasonable-dinner",
   "metadata": {},
   "outputs": [
    {
     "name": "stdout",
     "output_type": "stream",
     "text": [
      "0.64\n"
     ]
    }
   ],
   "source": [
    "acc = 0\n",
    "incorrect = []\n",
    "for i in range(len(test_pred)):\n",
    "    if np.array_equiv(test_pred[i], test_cat[i]):\n",
    "        acc += 1\n",
    "    else:\n",
    "        incorrect.append(img_files[i])\n",
    "acc = acc/len(test_pred)\n",
    "print(acc)"
   ]
  },
  {
   "cell_type": "code",
   "execution_count": null,
   "id": "compound-bachelor",
   "metadata": {},
   "outputs": [],
   "source": []
  }
 ],
 "metadata": {
  "kernelspec": {
   "display_name": "Python 3",
   "language": "python",
   "name": "python3"
  },
  "language_info": {
   "codemirror_mode": {
    "name": "ipython",
    "version": 3
   },
   "file_extension": ".py",
   "mimetype": "text/x-python",
   "name": "python",
   "nbconvert_exporter": "python",
   "pygments_lexer": "ipython3",
   "version": "3.9.7"
  }
 },
 "nbformat": 4,
 "nbformat_minor": 5
}
