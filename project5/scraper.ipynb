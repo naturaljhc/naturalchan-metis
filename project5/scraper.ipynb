{
 "cells": [
  {
   "cell_type": "code",
   "execution_count": 1,
   "id": "moving-relations",
   "metadata": {},
   "outputs": [],
   "source": [
    "import pandas as pd\n",
    "import praw\n",
    "import datetime as dt\n",
    "from pmaw import PushshiftAPI\n",
    "from IPython.display import clear_output"
   ]
  },
  {
   "cell_type": "code",
   "execution_count": 2,
   "id": "seven-checkout",
   "metadata": {},
   "outputs": [],
   "source": [
    "reddit = praw.Reddit(\n",
    "    client_id = \"sJWEgXc5LkKbsymp1BKSyA\",\n",
    "    client_secret = \"AvxFCAQL4sChsnCUK9HfPeYUMzw3zg\",\n",
    "    user_agent = \"testbot\"\n",
    ")"
   ]
  },
  {
   "cell_type": "code",
   "execution_count": 3,
   "id": "legendary-silicon",
   "metadata": {},
   "outputs": [],
   "source": [
    "def subreddit_scrape(reddit, subreddit_name, corpus_df):\n",
    "    subreddit = reddit.subreddit(subreddit_name)\n",
    "    for submission in subreddit.top(limit = 100000):\n",
    "        if submission.score < 1000:\n",
    "            break\n",
    "        corpus_df = corpus_df.append({\"subreddit\": subreddit_name,\n",
    "                                      \"title\": submission.title, \n",
    "                                      \"score\": submission.score, \n",
    "                                      \"id\": submission.id,\n",
    "                                      \"url\": submission.url},\n",
    "                                     ignore_index = True)\n",
    "    return corpus_df"
   ]
  },
  {
   "cell_type": "code",
   "execution_count": 4,
   "id": "connected-reconstruction",
   "metadata": {},
   "outputs": [],
   "source": [
    "api = PushshiftAPI()\n",
    "\n",
    "def psscrape_all(reddit, subreddit_name, after_time, before_time, corpus_df):\n",
    "    posts = api.search_submissions(subreddit = subreddit_name, \n",
    "                                   limit = None,\n",
    "                                   after = after_time,\n",
    "                                   before = before_time)\n",
    "    ids = [\"t3_\" + post[\"id\"] for post in posts]\n",
    "    for submission in reddit.info(fullnames = ids):\n",
    "        if submission.score >= 1000:\n",
    "            corpus_df = corpus_df.append({\"subreddit\": subreddit_name,\n",
    "                                          \"title\": submission.title, \n",
    "                                          \"score\": submission.score,\n",
    "                                          \"id\": submission.id,\n",
    "                                          \"date\": dt.datetime.fromtimestamp(submission.created).strftime('%d %B, %Y')},\n",
    "                                         ignore_index = True)\n",
    "            print(submission.title)\n",
    "    return corpus_df"
   ]
  },
  {
   "cell_type": "code",
   "execution_count": 5,
   "id": "bright-jewelry",
   "metadata": {},
   "outputs": [],
   "source": [
    "subreddits = [\"worldnews\"]\n",
    "one_day = 86400\n",
    "before_time = int(dt.datetime(2022,3,20,0,0).timestamp())\n",
    "after_time = int(dt.datetime(2022,3,19,0,0).timestamp())\n",
    "end_time = int(dt.datetime(2022,3,13,0,0).timestamp())\n",
    "corpus_df = pd.DataFrame(columns = [\"subreddit\", \"title\", \"score\", \"id\", \"date\"])"
   ]
  },
  {
   "cell_type": "code",
   "execution_count": 6,
   "id": "excessive-singer",
   "metadata": {},
   "outputs": [
    {
     "name": "stdout",
     "output_type": "stream",
     "text": [
      "12 March, 2022 complete. Corpus contains 689 rows.\n"
     ]
    }
   ],
   "source": [
    "while before_time > end_time:\n",
    "    try:\n",
    "        print(f\"Currently scraping posts from {dt.datetime.fromtimestamp(after_time).strftime('%d %B, %Y')}.\")\n",
    "        for subreddit_name in subreddits:\n",
    "            corpus_df = psscrape_all(reddit, subreddit_name, after_time, before_time, corpus_df)\n",
    "        corpus_df.drop_duplicates(inplace = True, ignore_index = True)\n",
    "        clear_output(wait=True)\n",
    "        print(f\"{dt.datetime.fromtimestamp(after_time).strftime('%d %B, %Y')} complete. Corpus contains {corpus_df.shape[0]} rows.\")\n",
    "        before_time -= one_day\n",
    "        after_time -= one_day\n",
    "    except:\n",
    "        print(\"Error found, retrying last iteration\")\n",
    "        pass"
   ]
  },
  {
   "cell_type": "code",
   "execution_count": 11,
   "id": "impossible-crown",
   "metadata": {},
   "outputs": [],
   "source": [
    "#corpus_df.to_csv('corpus.csv', index = False)"
   ]
  },
  {
   "cell_type": "code",
   "execution_count": 7,
   "id": "driven-observation",
   "metadata": {},
   "outputs": [],
   "source": [
    "corpus_df.to_csv('test_corpus.csv', index = False)"
   ]
  },
  {
   "cell_type": "code",
   "execution_count": null,
   "id": "respective-satellite",
   "metadata": {},
   "outputs": [],
   "source": []
  }
 ],
 "metadata": {
  "kernelspec": {
   "display_name": "Python 3",
   "language": "python",
   "name": "python3"
  },
  "language_info": {
   "codemirror_mode": {
    "name": "ipython",
    "version": 3
   },
   "file_extension": ".py",
   "mimetype": "text/x-python",
   "name": "python",
   "nbconvert_exporter": "python",
   "pygments_lexer": "ipython3",
   "version": "3.9.7"
  }
 },
 "nbformat": 4,
 "nbformat_minor": 5
}
