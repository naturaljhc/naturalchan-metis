{
 "cells": [
  {
   "cell_type": "code",
   "execution_count": 1,
   "id": "moving-organizer",
   "metadata": {},
   "outputs": [],
   "source": [
    "import pandas as pd\n",
    "import numpy as np"
   ]
  },
  {
   "cell_type": "code",
   "execution_count": 2,
   "id": "original-sharing",
   "metadata": {},
   "outputs": [],
   "source": [
    "col_values = [\"PUBID\",\n",
    "              \"SEX\",\n",
    "              \"BDATE\",\n",
    "              \"RACE/ETHNICITY\",\n",
    "              \"INDUSTRY\",\n",
    "              \"OCCUPATION\",\n",
    "              \"CENSUS_REGION\",\n",
    "              \"HH_POV_RATIO\",\n",
    "              \"HH_SIZE\",\n",
    "              \"HIGHEST_DEGREE\",\n",
    "              \"MARITAL_STATUS\",\n",
    "              \"HH_CHILDREN\",\n",
    "              \"URBAN_OR_RURAL\",\n",
    "              \"WRK_SCHEDULE\",\n",
    "              \"NUM_EMPLOYEES\",\n",
    "              \"JOB_SATISFACTION\",\n",
    "              \"JOB_SEARCH\",\n",
    "              \"TOTAL_INC\",\n",
    "              \"HEALTH\",\n",
    "              \"HEALTH_CARE\",\n",
    "              \"CURR_WORKING\",\n",
    "              \"EMP_START_M\",\n",
    "              \"EMP_START_Y\",\n",
    "              \"JOB_TYPE\"]"
   ]
  },
  {
   "cell_type": "code",
   "execution_count": 3,
   "id": "comparable-computer",
   "metadata": {},
   "outputs": [],
   "source": [
    "df_cols = [i for i in range(4)] + [44 + i for i in range(20)]"
   ]
  },
  {
   "cell_type": "code",
   "execution_count": 9,
   "id": "mexican-honduras",
   "metadata": {},
   "outputs": [],
   "source": [
    "df = pd.read_csv('p4data.csv', usecols = df_cols, names = col_values, low_memory = False)\n",
    "df.drop(0, axis = 0, inplace = True)"
   ]
  },
  {
   "cell_type": "code",
   "execution_count": 19,
   "id": "living-response",
   "metadata": {},
   "outputs": [],
   "source": [
    "df = df.astype(\"float64\")"
   ]
  },
  {
   "cell_type": "code",
   "execution_count": 20,
   "id": "latest-simulation",
   "metadata": {},
   "outputs": [],
   "source": [
    "df.replace([-1, -2, -3, -4, -5], np.NaN, inplace = True)"
   ]
  },
  {
   "cell_type": "code",
   "execution_count": 23,
   "id": "directed-houston",
   "metadata": {},
   "outputs": [],
   "source": [
    "df[\"HH_POV_RATIO\"] = df[\"HH_POV_RATIO\"]/100"
   ]
  },
  {
   "cell_type": "code",
   "execution_count": 30,
   "id": "included-assembly",
   "metadata": {},
   "outputs": [],
   "source": [
    "df.to_csv('p4clean.csv', index = False)"
   ]
  },
  {
   "cell_type": "code",
   "execution_count": null,
   "id": "looking-bidding",
   "metadata": {},
   "outputs": [],
   "source": []
  }
 ],
 "metadata": {
  "kernelspec": {
   "display_name": "Python 3",
   "language": "python",
   "name": "python3"
  },
  "language_info": {
   "codemirror_mode": {
    "name": "ipython",
    "version": 3
   },
   "file_extension": ".py",
   "mimetype": "text/x-python",
   "name": "python",
   "nbconvert_exporter": "python",
   "pygments_lexer": "ipython3",
   "version": "3.9.7"
  }
 },
 "nbformat": 4,
 "nbformat_minor": 5
}
