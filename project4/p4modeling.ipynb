{
 "cells": [
  {
   "cell_type": "code",
   "execution_count": 457,
   "id": "satisfactory-prayer",
   "metadata": {},
   "outputs": [],
   "source": [
    "import numpy as np\n",
    "import pandas as pd\n",
    "import xgboost as xgb\n",
    "from imblearn.over_sampling import RandomOverSampler, SMOTE\n",
    "from imblearn.pipeline import Pipeline, make_pipeline\n",
    "from sklearn.model_selection import train_test_split, cross_val_score, KFold, StratifiedKFold, GridSearchCV\n",
    "from sklearn.tree import DecisionTreeClassifier\n",
    "from sklearn.ensemble import RandomForestClassifier\n",
    "from sklearn.metrics import accuracy_score, precision_score, recall_score, f1_score, fbeta_score, make_scorer, confusion_matrix, roc_auc_score, ConfusionMatrixDisplay\n",
    "from hyperopt import STATUS_OK, Trials, fmin, hp, tpe\n",
    "import matplotlib.pyplot as plt"
   ]
  },
  {
   "cell_type": "code",
   "execution_count": 6,
   "id": "fundamental-authority",
   "metadata": {},
   "outputs": [],
   "source": [
    "df = pd.read_csv('p4clean.csv')"
   ]
  },
  {
   "cell_type": "code",
   "execution_count": 157,
   "id": "continued-oxide",
   "metadata": {},
   "outputs": [],
   "source": [
    "df[\"JOB_SEARCH\"] = df[\"JOB_SEARCH\"].fillna(0)\n",
    "X = df.drop([\"PUBID\", \"JOB_SEARCH\"], axis = 1)\n",
    "X = X.fillna(-999)\n",
    "y = df[\"JOB_SEARCH\"].astype(\"int64\")"
   ]
  },
  {
   "cell_type": "code",
   "execution_count": 159,
   "id": "exterior-snapshot",
   "metadata": {},
   "outputs": [],
   "source": [
    "X_train, X_test, y_train, y_test = train_test_split(X, y, test_size = .3, random_state = 42)"
   ]
  },
  {
   "cell_type": "code",
   "execution_count": 341,
   "id": "thorough-guide",
   "metadata": {},
   "outputs": [],
   "source": [
    "kf = KFold(n_splits = 5, random_state = 42, shuffle = True)\n",
    "f2 = make_scorer(fbeta_score, beta = 2)"
   ]
  },
  {
   "cell_type": "markdown",
   "id": "vietnamese-monaco",
   "metadata": {},
   "source": [
    "## Decision Tree\n",
    "- Did not tune hyperparameters\n",
    "- 5-Fold Cross Validation"
   ]
  },
  {
   "cell_type": "code",
   "execution_count": 343,
   "id": "separated-framework",
   "metadata": {},
   "outputs": [
    {
     "name": "stdout",
     "output_type": "stream",
     "text": [
      "Accuracy: 0.9230304571031793\n",
      "Precision: 0.15080808080808078\n",
      "Recall: 0.19949165473285765\n",
      "f1: 0.1685899721193839\n",
      "f2: 0.18477726391644783\n",
      "AUC: 0.575697935253577\n"
     ]
    }
   ],
   "source": [
    "imba_pipeline = make_pipeline(SMOTE(random_state = 42), DecisionTreeClassifier(random_state = 42))\n",
    "print(f\"Accuracy: {cross_val_score(imba_pipeline, X_train, y_train, scoring = 'accuracy', cv = kf).mean()}\")\n",
    "print(f\"Precision: {cross_val_score(imba_pipeline, X_train, y_train, scoring = 'precision', cv = kf).mean()}\")\n",
    "print(f\"Recall: {cross_val_score(imba_pipeline, X_train, y_train, scoring = 'recall', cv = kf).mean()}\")\n",
    "print(f\"f1: {cross_val_score(imba_pipeline, X_train, y_train, scoring = 'f1', cv = kf).mean()}\")\n",
    "print(f\"f2: {cross_val_score(imba_pipeline, X_train, y_train, scoring = f2, cv = kf).mean()}\")\n",
    "print(f\"AUC: {cross_val_score(imba_pipeline, X_train, y_train, scoring = 'roc_auc', cv = kf).mean()}\")"
   ]
  },
  {
   "cell_type": "markdown",
   "id": "spatial-missile",
   "metadata": {},
   "source": [
    "## Random Forest\n",
    "- Did not tune hyperparameters\n",
    "- 5-Fold Cross Validation"
   ]
  },
  {
   "cell_type": "code",
   "execution_count": 344,
   "id": "bearing-ethics",
   "metadata": {},
   "outputs": [
    {
     "name": "stdout",
     "output_type": "stream",
     "text": [
      "Accuracy: 0.9591285937067209\n",
      "Precision: 0.22333333333333333\n",
      "Recall: 0.030854768694084333\n",
      "f1: 0.053341650139679696\n",
      "f2: 0.03709021990323069\n",
      "AUC: 0.8194276791855485\n"
     ]
    }
   ],
   "source": [
    "imba_pipeline = make_pipeline(SMOTE(random_state = 42), RandomForestClassifier(random_state = 42))\n",
    "print(f\"Accuracy: {cross_val_score(imba_pipeline, X_train, y_train, scoring = 'accuracy', cv = kf).mean()}\")\n",
    "print(f\"Precision: {cross_val_score(imba_pipeline, X_train, y_train, scoring = 'precision', cv = kf).mean()}\")\n",
    "print(f\"Recall: {cross_val_score(imba_pipeline, X_train, y_train, scoring = 'recall', cv = kf).mean()}\")\n",
    "print(f\"f1: {cross_val_score(imba_pipeline, X_train, y_train, scoring = 'f1', cv = kf).mean()}\")\n",
    "print(f\"f2: {cross_val_score(imba_pipeline, X_train, y_train, scoring = f2, cv = kf).mean()}\")\n",
    "print(f\"AUC: {cross_val_score(imba_pipeline, X_train, y_train, scoring = 'roc_auc', cv = kf).mean()}\")"
   ]
  },
  {
   "cell_type": "markdown",
   "id": "ideal-roulette",
   "metadata": {},
   "source": [
    "## Decision Tree\n",
    "- Did not tune hyperparameters\n",
    "- 5-Fold Cross Validation"
   ]
  },
  {
   "cell_type": "code",
   "execution_count": 345,
   "id": "utility-rochester",
   "metadata": {},
   "outputs": [
    {
     "name": "stdout",
     "output_type": "stream",
     "text": [
      "Accuracy: 0.9586511402600129\n",
      "Precision: 0.35055555555555556\n",
      "Recall: 0.07641896138765351\n",
      "f1: 0.124043157196811\n",
      "f1: 0.09023324406503835\n",
      "AUC: 0.8174396926659373\n"
     ]
    }
   ],
   "source": [
    "imba_pipeline = make_pipeline(SMOTE(random_state = 42), xgb.XGBClassifier(eval_metric='mlogloss', use_label_encoder = False, random_state = 42))\n",
    "print(f\"Accuracy: {cross_val_score(imba_pipeline, X_train, y_train, scoring = 'accuracy', cv = kf).mean()}\")\n",
    "print(f\"Precision: {cross_val_score(imba_pipeline, X_train, y_train, scoring = 'precision', cv = kf).mean()}\")\n",
    "print(f\"Recall: {cross_val_score(imba_pipeline, X_train, y_train, scoring = 'recall', cv = kf).mean()}\")\n",
    "print(f\"f1: {cross_val_score(imba_pipeline, X_train, y_train, scoring = 'f1', cv = kf).mean()}\")\n",
    "print(f\"f1: {cross_val_score(imba_pipeline, X_train, y_train, scoring = f2, cv = kf).mean()}\")\n",
    "print(f\"AUC: {cross_val_score(imba_pipeline, X_train, y_train, scoring = 'roc_auc', cv = kf).mean()}\")"
   ]
  },
  {
   "cell_type": "markdown",
   "id": "accessory-taylor",
   "metadata": {},
   "source": [
    "## Create Hyperparameter Space For XGBoost\n",
    "- Created space of hyperparameters\n",
    "- Created an objective function to minimize loss function (would be -f2 score here)\n",
    "- Used 5 Fold Cross Validation when minimizing loss function\n",
    "- Also used SMOTE to oversample training sets for cross validation"
   ]
  },
  {
   "cell_type": "code",
   "execution_count": 261,
   "id": "competent-charger",
   "metadata": {},
   "outputs": [],
   "source": [
    "space = {\"eta\": hp.uniform(\"eta\", 0, 1),\n",
    "         \"n_estimators\": 180,\n",
    "         \"gamma\": hp.uniform(\"gamma\", 1, 9),\n",
    "         \"max_depth\": hp.quniform(\"max_depth\", 3, 23, 1), \n",
    "         \"min_child_weight\": hp.quniform(\"min_child_weight\", 0, 10, 1),\n",
    "         \"max_delta_step\": hp.quniform(\"max_delta_step\", 0, 100, 1),\n",
    "         \"subsample\": hp.uniform(\"subsample\", 0.1 , 1),\n",
    "         \"colsample_bytree\": hp.uniform(\"colsample_bytree\", 0.1, 1),\n",
    "         \"colsample_bylevel\": hp.uniform(\"colsample_bylevel\", 0.1, 1),\n",
    "         \"colsample_bynode\": hp.uniform(\"colsample_bynode\", 0.1, 1),\n",
    "         \"reg_alpha\": hp.quniform(\"reg_alpha\", 4, 180, 1),\n",
    "         \"reg_lambda\": hp.uniform(\"reg_lambda\", 0, 1)\n",
    "         }"
   ]
  },
  {
   "cell_type": "code",
   "execution_count": 346,
   "id": "handmade-deficit",
   "metadata": {},
   "outputs": [],
   "source": [
    "def objective(space):\n",
    "    clf = xgb.XGBClassifier(eta = space[\"eta\"],\n",
    "                            n_estimators = space[\"n_estimators\"], \n",
    "                            gamma = space[\"gamma\"],\n",
    "                            max_depth = int(space[\"max_depth\"]),\n",
    "                            min_child_weight = int(space[\"min_child_weight\"]),\n",
    "                            max_delta_step = int(space[\"max_delta_step\"]),\n",
    "                            subsample = space[\"subsample\"],\n",
    "                            colsample_bytree = space[\"colsample_bytree\"],\n",
    "                            colsample_bylevel = space[\"colsample_bylevel\"],\n",
    "                            colsample_bynode = space[\"colsample_bynode\"],\n",
    "                            reg_alpha = int(space[\"reg_alpha\"]),\n",
    "                            reg_lambda = space[\"reg_lambda\"],\n",
    "                            eval_metric='mlogloss',\n",
    "                            use_label_encoder = False,\n",
    "                            random_state = 42)\n",
    "    \n",
    "    imba_pipeline = make_pipeline(SMOTE(random_state = 42), clf)\n",
    "    f2_score = cross_val_score(imba_pipeline, X_train, y_train, scoring = f2, cv = kf).mean()\n",
    "    return {\"loss\": -f2_score, \"status\": STATUS_OK}"
   ]
  },
  {
   "cell_type": "code",
   "execution_count": 347,
   "id": "acute-heath",
   "metadata": {},
   "outputs": [
    {
     "name": "stdout",
     "output_type": "stream",
     "text": [
      "100%|██████████| 100/100 [05:36<00:00,  3.36s/trial, best loss: -0.3449415171863988]\n"
     ]
    }
   ],
   "source": [
    "trials = Trials()\n",
    "params = fmin(fn = objective, space = space, algo = tpe.suggest, max_evals = 100, trials = trials)"
   ]
  },
  {
   "cell_type": "markdown",
   "id": "married-import",
   "metadata": {},
   "source": [
    "Adjust parameter types and add a few more for final model"
   ]
  },
  {
   "cell_type": "code",
   "execution_count": 349,
   "id": "wireless-conflict",
   "metadata": {},
   "outputs": [],
   "source": [
    "params[\"use_label_encoder\"] = False\n",
    "params[\"n_estimators\"] = 180\n",
    "params[\"max_delta_step\"] = int(params[\"max_delta_step\"])\n",
    "params[\"max_depth\"] = int(params[\"max_depth\"])\n",
    "params[\"min_child_weight\"] = int(params[\"min_child_weight\"])\n",
    "params[\"reg_alpha\"] = int(params[\"reg_alpha\"])\n",
    "params[\"eval_metric\"] = \"mlogloss\"\n",
    "params[\"random_state\"] = 42"
   ]
  },
  {
   "cell_type": "code",
   "execution_count": 350,
   "id": "retained-offer",
   "metadata": {},
   "outputs": [],
   "source": [
    "xgbc = xgb.XGBClassifier(**params)"
   ]
  },
  {
   "cell_type": "code",
   "execution_count": 351,
   "id": "elegant-express",
   "metadata": {},
   "outputs": [
    {
     "data": {
      "text/plain": [
       "XGBClassifier(base_score=0.5, booster='gbtree',\n",
       "              colsample_bylevel=0.5390242529400727,\n",
       "              colsample_bynode=0.4066059133180981,\n",
       "              colsample_bytree=0.9697657155726557, enable_categorical=False,\n",
       "              eta=0.3831863806929251, eval_metric='mlogloss',\n",
       "              gamma=1.646914459067395, gpu_id=-1, importance_type=None,\n",
       "              interaction_constraints='', learning_rate=0.38318637,\n",
       "              max_delta_step=58, max_depth=5, min_child_weight=1, missing=nan,\n",
       "              monotone_constraints='()', n_estimators=180, n_jobs=8,\n",
       "              num_parallel_tree=1, predictor='auto', random_state=42,\n",
       "              reg_alpha=121, reg_lambda=0.7086868126359387, scale_pos_weight=1,\n",
       "              subsample=0.33461459400371335, tree_method='exact',\n",
       "              use_label_encoder=False, validate_parameters=1, ...)"
      ]
     },
     "execution_count": 351,
     "metadata": {},
     "output_type": "execute_result"
    }
   ],
   "source": [
    "sm = SMOTE(random_state=42)\n",
    "X_train_os, y_train_os = sm.fit_resample(X_train, y_train)\n",
    "xgbc.fit(X_train_os, y_train_os)"
   ]
  },
  {
   "cell_type": "code",
   "execution_count": 362,
   "id": "alpha-buffer",
   "metadata": {},
   "outputs": [
    {
     "name": "stdout",
     "output_type": "stream",
     "text": [
      "Accuracy: 0.8594213649851632\n",
      "Precision: 0.1164021164021164\n",
      "Recall: 0.4943820224719101\n",
      "f1: 0.18843683083511778\n",
      "f2: 0.2997275204359673\n",
      "AUC: 0.6831327066713213\n"
     ]
    }
   ],
   "source": [
    "y_pred = pd.Series(xgbc.predict(X_test))\n",
    "print(f\"Accuracy: {accuracy_score(y_test, y_pred)}\")\n",
    "print(f\"Precision: {precision_score(y_test, y_pred)}\")\n",
    "print(f\"Recall: {recall_score(y_test, y_pred)}\")\n",
    "print(f\"f1: {f1_score(y_test, y_pred)}\")\n",
    "print(f\"f2: {fbeta_score(y_test, y_pred, beta = 2)}\")\n",
    "print(f\"AUC: {roc_auc_score(y_test, y_pred)}\")"
   ]
  },
  {
   "cell_type": "code",
   "execution_count": 381,
   "id": "assigned-stocks",
   "metadata": {},
   "outputs": [],
   "source": [
    "feat_imp = dict(zip(X_train.columns, xgbc.feature_importances_))"
   ]
  },
  {
   "cell_type": "code",
   "execution_count": 355,
   "id": "african-heading",
   "metadata": {},
   "outputs": [
    {
     "data": {
      "text/plain": [
       "array([[2273,  334],\n",
       "       [  45,   44]])"
      ]
     },
     "execution_count": 355,
     "metadata": {},
     "output_type": "execute_result"
    }
   ],
   "source": [
    "confusion_matrix(y_test, y_pred)"
   ]
  },
  {
   "cell_type": "markdown",
   "id": "fancy-petite",
   "metadata": {},
   "source": [
    "## Notes\n",
    "Data may not be perfect as it is survey data using the same people every other year \\\n",
    "\\\n",
    "Many factors can affect the outcome of our model \\\n",
    "For example: Maybe an individual searched for a new job in the past 4 years which would have an affect on if they are searching for a job now \\\n",
    "\\\n",
    "Let's drop all features with an importance of less than 0.01 (Industry, Occupation, Marital Status, Number of Employees, Total Income)"
   ]
  },
  {
   "cell_type": "code",
   "execution_count": 385,
   "id": "south-senior",
   "metadata": {},
   "outputs": [],
   "source": [
    "drop_cols = []\n",
    "for c in X_train.columns:\n",
    "    if feat_imp[c] < 0.01:\n",
    "        drop_cols.append(c)"
   ]
  },
  {
   "cell_type": "markdown",
   "id": "architectural-person",
   "metadata": {},
   "source": [
    "***\n",
    "***\n",
    "***"
   ]
  },
  {
   "cell_type": "code",
   "execution_count": 159,
   "id": "ethical-painting",
   "metadata": {},
   "outputs": [],
   "source": [
    "X_train, X_test, y_train, y_test = train_test_split(X, y, test_size = .3, random_state = 42)"
   ]
  },
  {
   "cell_type": "code",
   "execution_count": 440,
   "id": "tired-cuisine",
   "metadata": {},
   "outputs": [],
   "source": [
    "kf = KFold(n_splits = 5, random_state = 42, shuffle = True)\n",
    "f2 = make_scorer(fbeta_score, beta = 2)\n",
    "ftest = make_scorer(fbeta_score, beta = 100)"
   ]
  },
  {
   "cell_type": "markdown",
   "id": "exceptional-invasion",
   "metadata": {},
   "source": [
    "## Decision Tree\n",
    "- Did not tune hyperparameters\n",
    "- 5-Fold Cross Validation"
   ]
  },
  {
   "cell_type": "code",
   "execution_count": 343,
   "id": "green-breach",
   "metadata": {},
   "outputs": [
    {
     "name": "stdout",
     "output_type": "stream",
     "text": [
      "Accuracy: 0.9230304571031793\n",
      "Precision: 0.15080808080808078\n",
      "Recall: 0.19949165473285765\n",
      "f1: 0.1685899721193839\n",
      "f2: 0.18477726391644783\n",
      "AUC: 0.575697935253577\n"
     ]
    }
   ],
   "source": [
    "imba_pipeline = make_pipeline(SMOTE(random_state = 42), DecisionTreeClassifier(random_state = 42))\n",
    "print(f\"Accuracy: {cross_val_score(imba_pipeline, X_train, y_train, scoring = 'accuracy', cv = kf).mean()}\")\n",
    "print(f\"Precision: {cross_val_score(imba_pipeline, X_train, y_train, scoring = 'precision', cv = kf).mean()}\")\n",
    "print(f\"Recall: {cross_val_score(imba_pipeline, X_train, y_train, scoring = 'recall', cv = kf).mean()}\")\n",
    "print(f\"f1: {cross_val_score(imba_pipeline, X_train, y_train, scoring = 'f1', cv = kf).mean()}\")\n",
    "print(f\"f2: {cross_val_score(imba_pipeline, X_train, y_train, scoring = f2, cv = kf).mean()}\")\n",
    "print(f\"AUC: {cross_val_score(imba_pipeline, X_train, y_train, scoring = 'roc_auc', cv = kf).mean()}\")"
   ]
  },
  {
   "cell_type": "markdown",
   "id": "lonely-momentum",
   "metadata": {},
   "source": [
    "## Random Forest\n",
    "- Did not tune hyperparameters\n",
    "- 5-Fold Cross Validation"
   ]
  },
  {
   "cell_type": "code",
   "execution_count": 344,
   "id": "fancy-island",
   "metadata": {},
   "outputs": [
    {
     "name": "stdout",
     "output_type": "stream",
     "text": [
      "Accuracy: 0.9591285937067209\n",
      "Precision: 0.22333333333333333\n",
      "Recall: 0.030854768694084333\n",
      "f1: 0.053341650139679696\n",
      "f2: 0.03709021990323069\n",
      "AUC: 0.8194276791855485\n"
     ]
    }
   ],
   "source": [
    "imba_pipeline = make_pipeline(SMOTE(random_state = 42), RandomForestClassifier(random_state = 42))\n",
    "print(f\"Accuracy: {cross_val_score(imba_pipeline, X_train, y_train, scoring = 'accuracy', cv = kf).mean()}\")\n",
    "print(f\"Precision: {cross_val_score(imba_pipeline, X_train, y_train, scoring = 'precision', cv = kf).mean()}\")\n",
    "print(f\"Recall: {cross_val_score(imba_pipeline, X_train, y_train, scoring = 'recall', cv = kf).mean()}\")\n",
    "print(f\"f1: {cross_val_score(imba_pipeline, X_train, y_train, scoring = 'f1', cv = kf).mean()}\")\n",
    "print(f\"f2: {cross_val_score(imba_pipeline, X_train, y_train, scoring = f2, cv = kf).mean()}\")\n",
    "print(f\"AUC: {cross_val_score(imba_pipeline, X_train, y_train, scoring = 'roc_auc', cv = kf).mean()}\")"
   ]
  },
  {
   "cell_type": "markdown",
   "id": "constant-factor",
   "metadata": {},
   "source": [
    "## XGBoost\n",
    "- Did not tune hyperparameters\n",
    "- 5-Fold Cross Validation"
   ]
  },
  {
   "cell_type": "code",
   "execution_count": 345,
   "id": "physical-million",
   "metadata": {},
   "outputs": [
    {
     "name": "stdout",
     "output_type": "stream",
     "text": [
      "Accuracy: 0.9586511402600129\n",
      "Precision: 0.35055555555555556\n",
      "Recall: 0.07641896138765351\n",
      "f1: 0.124043157196811\n",
      "f1: 0.09023324406503835\n",
      "AUC: 0.8174396926659373\n"
     ]
    }
   ],
   "source": [
    "imba_pipeline = make_pipeline(SMOTE(random_state = 42), xgb.XGBClassifier(eval_metric='mlogloss', use_label_encoder = False, random_state = 42))\n",
    "print(f\"Accuracy: {cross_val_score(imba_pipeline, X_train, y_train, scoring = 'accuracy', cv = kf).mean()}\")\n",
    "print(f\"Precision: {cross_val_score(imba_pipeline, X_train, y_train, scoring = 'precision', cv = kf).mean()}\")\n",
    "print(f\"Recall: {cross_val_score(imba_pipeline, X_train, y_train, scoring = 'recall', cv = kf).mean()}\")\n",
    "print(f\"f1: {cross_val_score(imba_pipeline, X_train, y_train, scoring = 'f1', cv = kf).mean()}\")\n",
    "print(f\"f1: {cross_val_score(imba_pipeline, X_train, y_train, scoring = f2, cv = kf).mean()}\")\n",
    "print(f\"AUC: {cross_val_score(imba_pipeline, X_train, y_train, scoring = 'roc_auc', cv = kf).mean()}\")"
   ]
  },
  {
   "cell_type": "markdown",
   "id": "virtual-stick",
   "metadata": {},
   "source": [
    "## Create Hyperparameter Space For XGBoost\n",
    "- Created space of hyperparameters\n",
    "- Created an objective function to minimize loss function (would be -f2 score here)\n",
    "- Used 5 Fold Cross Validation when minimizing loss function\n",
    "- Also used SMOTE to oversample training sets for cross validation"
   ]
  },
  {
   "cell_type": "code",
   "execution_count": 261,
   "id": "unlike-guarantee",
   "metadata": {},
   "outputs": [],
   "source": [
    "space = {\"eta\": hp.uniform(\"eta\", 0, 1),\n",
    "         \"n_estimators\": 180,\n",
    "         \"gamma\": hp.uniform(\"gamma\", 1, 9),\n",
    "         \"max_depth\": hp.quniform(\"max_depth\", 3, 23, 1), \n",
    "         \"min_child_weight\": hp.quniform(\"min_child_weight\", 0, 10, 1),\n",
    "         \"max_delta_step\": hp.quniform(\"max_delta_step\", 0, 100, 1),\n",
    "         \"subsample\": hp.uniform(\"subsample\", 0.1 , 1),\n",
    "         \"colsample_bytree\": hp.uniform(\"colsample_bytree\", 0.1, 1),\n",
    "         \"colsample_bylevel\": hp.uniform(\"colsample_bylevel\", 0.1, 1),\n",
    "         \"colsample_bynode\": hp.uniform(\"colsample_bynode\", 0.1, 1),\n",
    "         \"reg_alpha\": hp.quniform(\"reg_alpha\", 4, 180, 1),\n",
    "         \"reg_lambda\": hp.uniform(\"reg_lambda\", 0, 1)\n",
    "         }"
   ]
  },
  {
   "cell_type": "code",
   "execution_count": 596,
   "id": "stainless-decrease",
   "metadata": {},
   "outputs": [],
   "source": [
    "def objective(space):\n",
    "    clf = xgb.XGBClassifier(eta = space[\"eta\"],\n",
    "                            n_estimators = space[\"n_estimators\"], \n",
    "                            gamma = space[\"gamma\"],\n",
    "                            max_depth = int(space[\"max_depth\"]),\n",
    "                            min_child_weight = int(space[\"min_child_weight\"]),\n",
    "                            max_delta_step = int(space[\"max_delta_step\"]),\n",
    "                            subsample = space[\"subsample\"],\n",
    "                            colsample_bytree = space[\"colsample_bytree\"],\n",
    "                            colsample_bylevel = space[\"colsample_bylevel\"],\n",
    "                            colsample_bynode = space[\"colsample_bynode\"],\n",
    "                            reg_alpha = int(space[\"reg_alpha\"]),\n",
    "                            reg_lambda = space[\"reg_lambda\"],\n",
    "                            eval_metric='mlogloss',\n",
    "                            use_label_encoder = False,\n",
    "                            random_state = 42)\n",
    "    \n",
    "    imba_pipeline = make_pipeline(SMOTE(random_state = 42), clf)\n",
    "    f2_score = cross_val_score(imba_pipeline, X_train, y_train, scoring = f2, cv = kf).mean()\n",
    "    return {\"loss\": -f2_score, \"status\": STATUS_OK}"
   ]
  },
  {
   "cell_type": "code",
   "execution_count": 347,
   "id": "directed-singing",
   "metadata": {},
   "outputs": [
    {
     "name": "stdout",
     "output_type": "stream",
     "text": [
      "100%|██████████| 100/100 [05:36<00:00,  3.36s/trial, best loss: -0.3449415171863988]\n"
     ]
    }
   ],
   "source": [
    "trials = Trials()\n",
    "params = fmin(fn = objective, space = space, algo = tpe.suggest, max_evals = 100, trials = trials)"
   ]
  },
  {
   "cell_type": "markdown",
   "id": "dying-knitting",
   "metadata": {},
   "source": [
    "Adjust parameter types and add a few more for final model"
   ]
  },
  {
   "cell_type": "code",
   "execution_count": 349,
   "id": "meaning-glance",
   "metadata": {},
   "outputs": [],
   "source": [
    "params[\"use_label_encoder\"] = False\n",
    "params[\"n_estimators\"] = 180\n",
    "params[\"max_delta_step\"] = int(params[\"max_delta_step\"])\n",
    "params[\"max_depth\"] = int(params[\"max_depth\"])\n",
    "params[\"min_child_weight\"] = int(params[\"min_child_weight\"])\n",
    "params[\"reg_alpha\"] = int(params[\"reg_alpha\"])\n",
    "params[\"eval_metric\"] = \"mlogloss\"\n",
    "params[\"random_state\"] = 42"
   ]
  },
  {
   "cell_type": "code",
   "execution_count": 350,
   "id": "independent-table",
   "metadata": {},
   "outputs": [],
   "source": [
    "xgbc = xgb.XGBClassifier(**params)"
   ]
  },
  {
   "cell_type": "code",
   "execution_count": 351,
   "id": "sensitive-tennis",
   "metadata": {},
   "outputs": [
    {
     "data": {
      "text/plain": [
       "XGBClassifier(base_score=0.5, booster='gbtree',\n",
       "              colsample_bylevel=0.5390242529400727,\n",
       "              colsample_bynode=0.4066059133180981,\n",
       "              colsample_bytree=0.9697657155726557, enable_categorical=False,\n",
       "              eta=0.3831863806929251, eval_metric='mlogloss',\n",
       "              gamma=1.646914459067395, gpu_id=-1, importance_type=None,\n",
       "              interaction_constraints='', learning_rate=0.38318637,\n",
       "              max_delta_step=58, max_depth=5, min_child_weight=1, missing=nan,\n",
       "              monotone_constraints='()', n_estimators=180, n_jobs=8,\n",
       "              num_parallel_tree=1, predictor='auto', random_state=42,\n",
       "              reg_alpha=121, reg_lambda=0.7086868126359387, scale_pos_weight=1,\n",
       "              subsample=0.33461459400371335, tree_method='exact',\n",
       "              use_label_encoder=False, validate_parameters=1, ...)"
      ]
     },
     "execution_count": 351,
     "metadata": {},
     "output_type": "execute_result"
    }
   ],
   "source": [
    "sm = SMOTE(random_state=42)\n",
    "X_train_os, y_train_os = sm.fit_resample(X_train, y_train)\n",
    "xgbc.fit(X_train_os, y_train_os)"
   ]
  },
  {
   "cell_type": "code",
   "execution_count": 362,
   "id": "buried-consequence",
   "metadata": {},
   "outputs": [
    {
     "name": "stdout",
     "output_type": "stream",
     "text": [
      "Accuracy: 0.8594213649851632\n",
      "Precision: 0.1164021164021164\n",
      "Recall: 0.4943820224719101\n",
      "f1: 0.18843683083511778\n",
      "f2: 0.2997275204359673\n",
      "AUC: 0.6831327066713213\n"
     ]
    }
   ],
   "source": [
    "y_pred = pd.Series(xgbc.predict(X_test))\n",
    "print(f\"Accuracy: {accuracy_score(y_test, y_pred)}\")\n",
    "print(f\"Precision: {precision_score(y_test, y_pred)}\")\n",
    "print(f\"Recall: {recall_score(y_test, y_pred)}\")\n",
    "print(f\"f1: {f1_score(y_test, y_pred)}\")\n",
    "print(f\"f2: {fbeta_score(y_test, y_pred, beta = 2)}\")\n",
    "print(f\"AUC: {roc_auc_score(y_test, y_pred)}\")"
   ]
  },
  {
   "cell_type": "code",
   "execution_count": 381,
   "id": "labeled-cable",
   "metadata": {},
   "outputs": [],
   "source": [
    "feat_imp = dict(zip(X_train.columns, xgbc.feature_importances_))"
   ]
  },
  {
   "cell_type": "code",
   "execution_count": 355,
   "id": "cheap-combine",
   "metadata": {},
   "outputs": [
    {
     "data": {
      "text/plain": [
       "array([[2273,  334],\n",
       "       [  45,   44]])"
      ]
     },
     "execution_count": 355,
     "metadata": {},
     "output_type": "execute_result"
    }
   ],
   "source": [
    "confusion_matrix(y_test, y_pred)"
   ]
  },
  {
   "cell_type": "code",
   "execution_count": 393,
   "id": "fluid-hindu",
   "metadata": {},
   "outputs": [],
   "source": [
    "X = X.drop(drop_cols, axis = 1)"
   ]
  },
  {
   "cell_type": "code",
   "execution_count": null,
   "id": "diagnostic-missouri",
   "metadata": {},
   "outputs": [],
   "source": []
  },
  {
   "cell_type": "code",
   "execution_count": null,
   "id": "spiritual-demonstration",
   "metadata": {},
   "outputs": [],
   "source": []
  },
  {
   "cell_type": "code",
   "execution_count": null,
   "id": "precious-wedding",
   "metadata": {},
   "outputs": [],
   "source": []
  },
  {
   "cell_type": "code",
   "execution_count": 396,
   "id": "presidential-blood",
   "metadata": {},
   "outputs": [],
   "source": [
    "X_train, X_test, y_train, y_test = train_test_split(X, y, test_size = .3, random_state = 42)"
   ]
  },
  {
   "cell_type": "markdown",
   "id": "violent-guarantee",
   "metadata": {},
   "source": [
    "## Decision Tree (F2)\n",
    "- Tune hyperparameters to maximize F2\n",
    "- 5-Fold Cross Validation"
   ]
  },
  {
   "cell_type": "code",
   "execution_count": 424,
   "id": "vulnerable-seattle",
   "metadata": {},
   "outputs": [
    {
     "data": {
      "text/plain": [
       "GridSearchCV(cv=KFold(n_splits=5, random_state=42, shuffle=True),\n",
       "             estimator=Pipeline(steps=[('smote', SMOTE(random_state=42)),\n",
       "                                       ('decisiontreeclassifier',\n",
       "                                        DecisionTreeClassifier(random_state=42))]),\n",
       "             n_jobs=-1,\n",
       "             param_grid={'decisiontreeclassifier__max_depth': [5, 6, 7, 8, 9,\n",
       "                                                               10, 11, 12, 13,\n",
       "                                                               14, 15, 16, 17,\n",
       "                                                               18, 19, None],\n",
       "                         'decisiontreeclassifier__max_leaf_nodes': [None, 10,\n",
       "                                                                    30, 50],\n",
       "                         'decisiontreeclassifier__min_samples_leaf': [1, 10, 30,\n",
       "                                                                      50],\n",
       "                         'decisiontreeclassifier__min_samples_split': [2, 10,\n",
       "                                                                       30,\n",
       "                                                                       50]},\n",
       "             scoring=make_scorer(fbeta_score, beta=2))"
      ]
     },
     "execution_count": 424,
     "metadata": {},
     "output_type": "execute_result"
    }
   ],
   "source": [
    "imba_pipeline = make_pipeline(SMOTE(random_state = 42), DecisionTreeClassifier(random_state = 42))\n",
    "param_grid = {\"decisiontreeclassifier__max_depth\": [i for i in range(5,20)] + [None], \n",
    "              \"decisiontreeclassifier__min_samples_split\": [2] + [i for i in range(10, 60, 20)], \n",
    "              \"decisiontreeclassifier__min_samples_leaf\": [1] + [i for i in range(10, 60, 20)],\n",
    "              \"decisiontreeclassifier__max_leaf_nodes\": [None] + [i for i in range(10, 60, 20)]}\n",
    "clf = GridSearchCV(estimator = imba_pipeline, param_grid = param_grid, scoring = f2, cv = kf, n_jobs = -1)\n",
    "clf.fit(X_train, y_train)"
   ]
  },
  {
   "cell_type": "code",
   "execution_count": 425,
   "id": "sitting-brown",
   "metadata": {},
   "outputs": [
    {
     "name": "stdout",
     "output_type": "stream",
     "text": [
      "Accuracy: 0.875\n",
      "Precision: 0.10759493670886076\n",
      "Recall: 0.38202247191011235\n",
      "f1: 0.16790123456790124\n",
      "f2: 0.25297619047619047\n",
      "AUC: 0.636926080604078\n"
     ]
    }
   ],
   "source": [
    "y_pred = pd.Series(clf.predict(X_test))\n",
    "print(f\"Accuracy: {accuracy_score(y_test, y_pred)}\")\n",
    "print(f\"Precision: {precision_score(y_test, y_pred)}\")\n",
    "print(f\"Recall: {recall_score(y_test, y_pred)}\")\n",
    "print(f\"f1: {f1_score(y_test, y_pred)}\")\n",
    "print(f\"f2: {fbeta_score(y_test, y_pred, beta = 2)}\")\n",
    "print(f\"AUC: {roc_auc_score(y_test, y_pred)}\")"
   ]
  },
  {
   "cell_type": "markdown",
   "id": "macro-constant",
   "metadata": {},
   "source": [
    "## Random Forest (F2)\n",
    "- Tune hyperparameters to maximize F2\n",
    "- 5-Fold Cross Validation"
   ]
  },
  {
   "cell_type": "code",
   "execution_count": 639,
   "id": "inappropriate-judge",
   "metadata": {},
   "outputs": [
    {
     "data": {
      "text/plain": [
       "GridSearchCV(cv=KFold(n_splits=5, random_state=42, shuffle=True),\n",
       "             estimator=Pipeline(steps=[('smote', SMOTE(random_state=42)),\n",
       "                                       ('randomforestclassifier',\n",
       "                                        RandomForestClassifier(n_jobs=-1,\n",
       "                                                               random_state=42))]),\n",
       "             n_jobs=-1,\n",
       "             param_grid={'randomforestclassifier__max_depth': [1, 2, 3, 4, 5, 6,\n",
       "                                                               7, 8, 9, 10, 11,\n",
       "                                                               12, 13, 14, 15,\n",
       "                                                               16, 17, 18, 19,\n",
       "                                                               None]},\n",
       "             scoring=make_scorer(fbeta_score, beta=2))"
      ]
     },
     "execution_count": 639,
     "metadata": {},
     "output_type": "execute_result"
    }
   ],
   "source": [
    "imba_pipeline = make_pipeline(SMOTE(random_state = 42), RandomForestClassifier(random_state = 42, n_jobs = -1))\n",
    "param_grid = {\"randomforestclassifier__max_depth\": [i for i in range(1,20)] + [None], \n",
    "              \"randomforestclassifier__min_samples_split\": [2] + [i for i in range(10, 40, 20)], \n",
    "              \"randomforestclassifier__min_samples_leaf\": [1] + [i for i in range(10, 40, 20)],\n",
    "              \"randomforestclassifier__max_leaf_nodes\": [None] + [i for i in range(10, 40, 20)]}\n",
    "clf = GridSearchCV(estimator = imba_pipeline, param_grid = param_grid, scoring = f2, cv = kf, n_jobs = -1)\n",
    "clf.fit(X_train, y_train)"
   ]
  },
  {
   "cell_type": "code",
   "execution_count": 641,
   "id": "discrete-bruce",
   "metadata": {},
   "outputs": [
    {
     "name": "stdout",
     "output_type": "stream",
     "text": [
      "Accuracy: 0.7637240356083086\n",
      "Precision: 0.08734939759036145\n",
      "Recall: 0.651685393258427\n",
      "f1: 0.15405046480743692\n",
      "f2: 0.28431372549019607\n",
      "AUC: 0.70961715002392\n"
     ]
    }
   ],
   "source": [
    "y_pred = pd.Series(clf.predict(X_test))\n",
    "print(f\"Accuracy: {accuracy_score(y_test, y_pred)}\")\n",
    "print(f\"Precision: {precision_score(y_test, y_pred)}\")\n",
    "print(f\"Recall: {recall_score(y_test, y_pred)}\")\n",
    "print(f\"f1: {f1_score(y_test, y_pred)}\")\n",
    "print(f\"f2: {fbeta_score(y_test, y_pred, beta = 2)}\")\n",
    "print(f\"AUC: {roc_auc_score(y_test, y_pred)}\")"
   ]
  },
  {
   "cell_type": "markdown",
   "id": "buried-buying",
   "metadata": {},
   "source": [
    "## XGBoost (Post drop)\n",
    "- Same hyperparameter grid\n",
    "- Used 5 Fold Cross Validation when minimizing loss function\n",
    "- SMOTE to oversample training sets for cross validation"
   ]
  },
  {
   "cell_type": "code",
   "execution_count": 621,
   "id": "necessary-savage",
   "metadata": {},
   "outputs": [
    {
     "name": "stdout",
     "output_type": "stream",
     "text": [
      "100%|██████████| 100/100 [05:52<00:00,  3.53s/trial, best loss: -0.36679843265396544]\n"
     ]
    }
   ],
   "source": [
    "trials = Trials()\n",
    "params = fmin(fn = objective, space = space, algo = tpe.suggest, max_evals = 100, trials = trials)"
   ]
  },
  {
   "cell_type": "markdown",
   "id": "dressed-migration",
   "metadata": {},
   "source": [
    "Adjust parameter types and add a few more for final model"
   ]
  },
  {
   "cell_type": "code",
   "execution_count": 622,
   "id": "public-brave",
   "metadata": {},
   "outputs": [],
   "source": [
    "params[\"use_label_encoder\"] = False\n",
    "params[\"n_estimators\"] = 180\n",
    "params[\"max_delta_step\"] = int(params[\"max_delta_step\"])\n",
    "params[\"max_depth\"] = int(params[\"max_depth\"])\n",
    "params[\"min_child_weight\"] = int(params[\"min_child_weight\"])\n",
    "params[\"reg_alpha\"] = int(params[\"reg_alpha\"])\n",
    "params[\"eval_metric\"] = \"mlogloss\"\n",
    "params[\"random_state\"] = 42"
   ]
  },
  {
   "cell_type": "code",
   "execution_count": 623,
   "id": "painted-condition",
   "metadata": {},
   "outputs": [],
   "source": [
    "xgbc = xgb.XGBClassifier(**params)"
   ]
  },
  {
   "cell_type": "code",
   "execution_count": 624,
   "id": "dimensional-patio",
   "metadata": {},
   "outputs": [
    {
     "data": {
      "text/plain": [
       "XGBClassifier(base_score=0.5, booster='gbtree',\n",
       "              colsample_bylevel=0.9728895135442799,\n",
       "              colsample_bynode=0.4626790508575632,\n",
       "              colsample_bytree=0.8789428967316341, enable_categorical=False,\n",
       "              eta=0.05556462199077587, eval_metric='mlogloss',\n",
       "              gamma=8.416851913292623, gpu_id=-1, importance_type=None,\n",
       "              interaction_constraints='', learning_rate=0.0555646233,\n",
       "              max_delta_step=54, max_depth=5, min_child_weight=9, missing=nan,\n",
       "              monotone_constraints='()', n_estimators=180, n_jobs=8,\n",
       "              num_parallel_tree=1, predictor='auto', random_state=42,\n",
       "              reg_alpha=77, reg_lambda=0.22517656018742083, scale_pos_weight=1,\n",
       "              subsample=0.288200444311866, tree_method='exact',\n",
       "              use_label_encoder=False, validate_parameters=1, ...)"
      ]
     },
     "execution_count": 624,
     "metadata": {},
     "output_type": "execute_result"
    }
   ],
   "source": [
    "xgbc.fit(X_train_os, y_train_os)"
   ]
  },
  {
   "cell_type": "code",
   "execution_count": 619,
   "id": "confirmed-cornell",
   "metadata": {},
   "outputs": [],
   "source": [
    "y_pred = (xgbc.predict_proba(X_test)[:,1] > .45).astype(int)"
   ]
  },
  {
   "cell_type": "code",
   "execution_count": 625,
   "id": "opening-opening",
   "metadata": {},
   "outputs": [
    {
     "name": "stdout",
     "output_type": "stream",
     "text": [
      "Accuracy: 0.8100890207715133\n",
      "Precision: 0.09867172675521822\n",
      "Recall: 0.5842696629213483\n",
      "f1: 0.16883116883116886\n",
      "f2: 0.29445073612684036\n",
      "AUC: 0.7010339492205514\n"
     ]
    }
   ],
   "source": [
    "#y_pred = pd.Series(xgbc.predict(X_test))\n",
    "print(f\"Accuracy: {accuracy_score(y_test, y_pred)}\")\n",
    "print(f\"Precision: {precision_score(y_test, y_pred)}\")\n",
    "print(f\"Recall: {recall_score(y_test, y_pred)}\")\n",
    "print(f\"f1: {f1_score(y_test, y_pred)}\")\n",
    "print(f\"f2: {fbeta_score(y_test, y_pred, beta = 2)}\")\n",
    "print(f\"AUC: {roc_auc_score(y_test, y_pred)}\")"
   ]
  },
  {
   "cell_type": "code",
   "execution_count": 589,
   "id": "becoming-forum",
   "metadata": {},
   "outputs": [
    {
     "data": {
      "image/png": "[encoded data removed]",
      "text/plain": [
       "<Figure size 432x288 with 1 Axes>"
      ]
     },
     "metadata": {
      "needs_background": "light"
     },
     "output_type": "display_data"
    }
   ],
   "source": [
    "feat_imp = pd.DataFrame(np.transpose(np.array([X_train.columns, xgbc.feature_importances_]))).sort_values(1, ascending = True)\n",
    "\n",
    "plt.barh(feat_imp.iloc[7::, 0], feat_imp.iloc[7::,1])\n",
    "plt.xlabel(\"% Gain\", fontsize = 20)\n",
    "plt.ylabel(\"Features\", fontsize = 20)\n",
    "plt.xticks(fontsize = 10)\n",
    "plt.yticks(fontsize = 12)\n",
    "plt.title(\"Feature Importance\", fontsize = 24)\n",
    "plt.tight_layout()\n",
    "plt.savefig(\"feat_imp.png\")\n",
    "plt.show()"
   ]
  },
  {
   "cell_type": "code",
   "execution_count": 696,
   "id": "fancy-florida",
   "metadata": {},
   "outputs": [],
   "source": [
    "top = pd.DataFrame(np.transpose(np.array([df.iloc[X_test.index, :]['PUBID'], xgbc.predict_proba(X_test)[:, 1]])), columns=['PUBID', 'JS_PROB'])\n",
    "top['JOB_SEARCH'] = list(y_test)"
   ]
  },
  {
   "cell_type": "code",
   "execution_count": 688,
   "id": "ambient-donor",
   "metadata": {},
   "outputs": [],
   "source": [
    "top_10 = top.sort_values(\"JS_PROB\", ascending = False).reset_index(drop = True).iloc[:10, :]"
   ]
  },
  {
   "cell_type": "code",
   "execution_count": 692,
   "id": "dying-tower",
   "metadata": {},
   "outputs": [],
   "source": [
    "import dataframe_image as dfi\n",
    "dfi.export(top_10, 'top_10.png')"
   ]
  },
  {
   "cell_type": "code",
   "execution_count": 701,
   "id": "anonymous-brooks",
   "metadata": {},
   "outputs": [],
   "source": [
    "X_test[\"PUBID\"] = df.iloc[X_test.index, :]['PUBID']"
   ]
  },
  {
   "cell_type": "code",
   "execution_count": 706,
   "id": "legal-royal",
   "metadata": {},
   "outputs": [
    {
     "data": {
      "text/plain": [
       "0    4111.0\n",
       "1    3800.0\n",
       "2    1515.0\n",
       "3    1504.0\n",
       "4    7944.0\n",
       "5    1408.0\n",
       "6    3418.0\n",
       "7    4709.0\n",
       "8    3856.0\n",
       "9    3006.0\n",
       "Name: PUBID, dtype: float64"
      ]
     },
     "execution_count": 706,
     "metadata": {},
     "output_type": "execute_result"
    }
   ],
   "source": [
    "top_10[\"PUBID\"]"
   ]
  },
  {
   "cell_type": "code",
   "execution_count": 711,
   "id": "colored-generic",
   "metadata": {},
   "outputs": [
    {
     "data": {
      "text/html": [
       "<div>\n",
       "<style scoped>\n",
       "    .dataframe tbody tr th:only-of-type {\n",
       "        vertical-align: middle;\n",
       "    }\n",
       "\n",
       "    .dataframe tbody tr th {\n",
       "        vertical-align: top;\n",
       "    }\n",
       "\n",
       "    .dataframe thead th {\n",
       "        text-align: right;\n",
       "    }\n",
       "</style>\n",
       "<table border=\"1\" class=\"dataframe\">\n",
       "  <thead>\n",
       "    <tr style=\"text-align: right;\">\n",
       "      <th></th>\n",
       "      <th>SEX</th>\n",
       "      <th>BDATE</th>\n",
       "      <th>RACE/ETHNICITY</th>\n",
       "      <th>CENSUS_REGION</th>\n",
       "      <th>HH_POV_RATIO</th>\n",
       "      <th>HH_SIZE</th>\n",
       "      <th>HIGHEST_DEGREE</th>\n",
       "      <th>HH_CHILDREN</th>\n",
       "      <th>URBAN_OR_RURAL</th>\n",
       "      <th>WRK_SCHEDULE</th>\n",
       "      <th>JOB_SATISFACTION</th>\n",
       "      <th>HEALTH</th>\n",
       "      <th>HEALTH_CARE</th>\n",
       "      <th>CURR_WORKING</th>\n",
       "      <th>EMP_START_M</th>\n",
       "      <th>EMP_START_Y</th>\n",
       "      <th>JOB_TYPE</th>\n",
       "      <th>PUBID</th>\n",
       "    </tr>\n",
       "  </thead>\n",
       "  <tbody>\n",
       "    <tr>\n",
       "      <th>1502</th>\n",
       "      <td>2.0</td>\n",
       "      <td>1983.0</td>\n",
       "      <td>4.0</td>\n",
       "      <td>3.0</td>\n",
       "      <td>2.63</td>\n",
       "      <td>4.0</td>\n",
       "      <td>4.0</td>\n",
       "      <td>2.0</td>\n",
       "      <td>1.0</td>\n",
       "      <td>-999.0</td>\n",
       "      <td>4.0</td>\n",
       "      <td>2.0</td>\n",
       "      <td>1.0</td>\n",
       "      <td>1.0</td>\n",
       "      <td>6.0</td>\n",
       "      <td>2018.0</td>\n",
       "      <td>2.0</td>\n",
       "      <td>1504.0</td>\n",
       "    </tr>\n",
       "  </tbody>\n",
       "</table>\n",
       "</div>"
      ],
      "text/plain": [
       "      SEX   BDATE  RACE/ETHNICITY  CENSUS_REGION  HH_POV_RATIO  HH_SIZE  \\\n",
       "1502  2.0  1983.0             4.0            3.0          2.63      4.0   \n",
       "\n",
       "      HIGHEST_DEGREE  HH_CHILDREN  URBAN_OR_RURAL  WRK_SCHEDULE  \\\n",
       "1502             4.0          2.0             1.0        -999.0   \n",
       "\n",
       "      JOB_SATISFACTION  HEALTH  HEALTH_CARE  CURR_WORKING  EMP_START_M  \\\n",
       "1502               4.0     2.0          1.0           1.0          6.0   \n",
       "\n",
       "      EMP_START_Y  JOB_TYPE   PUBID  \n",
       "1502       2018.0       2.0  1504.0  "
      ]
     },
     "execution_count": 711,
     "metadata": {},
     "output_type": "execute_result"
    }
   ],
   "source": [
    "X_test[X_test[\"PUBID\"] == 1504]"
   ]
  },
  {
   "cell_type": "code",
   "execution_count": 593,
   "id": "lyric-highland",
   "metadata": {},
   "outputs": [
    {
     "data": {
      "image/png": "[encoded data removed]",
      "text/plain": [
       "<Figure size 432x288 with 2 Axes>"
      ]
     },
     "metadata": {
      "needs_background": "light"
     },
     "output_type": "display_data"
    }
   ],
   "source": [
    "disp = ConfusionMatrixDisplay.from_estimator(xgbc, X_test, y_test)\n",
    "plt.xlabel('Predicted Label', fontsize = 20)\n",
    "plt.ylabel('Actual Label', fontsize = 20)\n",
    "plt.title('Confusion Matrix', fontsize = 24)\n",
    "plt.savefig(\"final_conf.png\")\n",
    "plt.tight_layout()\n",
    "plt.show()"
   ]
  },
  {
   "cell_type": "markdown",
   "id": "korean-benchmark",
   "metadata": {},
   "source": [
    "## Notes\n",
    "* Data results in several things:\n",
    "1. Focus on tree based algorithms because there is a lot of missing data\n",
    "2. Potentially lacking several key features (each person is around the same age and this is data from the same year so maybe an individual had already searched for a new job in the last 4 years)\n",
    "3. Used fbeta with beta = 2 because Recall is much more important than Precision here\n",
    "-> If I were a recruiter, I wouldn't want to miss the opportunity to contact a person that is searching for a job \\\n",
    "-> Likewise, if I were an employer, I would want to know who is actually at risk of leaving\n",
    "\n",
    "\n",
    "* Used Decision Tree, Random Forest and XGBoost\n",
    "* Tuned hyperparameters for each method by trying to maximize a F2 score\n",
    "* Created pipelines for 5 fold cross validation and handling class imbalance for each validation\n",
    "* Need to create plots (currently only have confusion matrices)\n",
    "* Other plots include pie chart of label distribution, tables of scores, and feature importance\n",
    "* Will not include any ROC curves due to the class imbalance\n",
    "* Create presentation and write up\n",
    "\n",
    "\n",
    "* Questions:\n",
    "* Is the presentation meant to be more technical - about models and the process I went through\n",
    "* Or more focused on findings\n",
    "\n",
    "\n",
    "Can always set predict_proba_ \\\n",
    "Limitations on data \\\n",
    "Business context -> Models/technical stuff -> Insights \\\n",
    "Mention parameters that I found for final model (if I have time) \\\n",
    "Show recall over different methods and hyperparameter tuning \\\n",
    "Create a plot for feature importance \\\n",
    "Identify top 10 people that will leave their current job \\\n",
    "Talk about why I chose a F2 metric - expect people to already know what the F beta metric is"
   ]
  },
  {
   "cell_type": "code",
   "execution_count": null,
   "id": "leading-exhaust",
   "metadata": {},
   "outputs": [],
   "source": []
  },
  {
   "cell_type": "code",
   "execution_count": null,
   "id": "identical-alberta",
   "metadata": {},
   "outputs": [],
   "source": []
  },
  {
   "cell_type": "code",
   "execution_count": 476,
   "id": "third-thread",
   "metadata": {},
   "outputs": [],
   "source": [
    "ftest = make_scorer(fbeta_score, beta = 100)\n",
    "\n",
    "def objectiveTest(space):\n",
    "    clf = xgb.XGBClassifier(eta = space[\"eta\"],\n",
    "                            n_estimators = space[\"n_estimators\"], \n",
    "                            gamma = space[\"gamma\"],\n",
    "                            max_depth = int(space[\"max_depth\"]),\n",
    "                            min_child_weight = int(space[\"min_child_weight\"]),\n",
    "                            max_delta_step = int(space[\"max_delta_step\"]),\n",
    "                            subsample = space[\"subsample\"],\n",
    "                            colsample_bytree = space[\"colsample_bytree\"],\n",
    "                            colsample_bylevel = space[\"colsample_bylevel\"],\n",
    "                            colsample_bynode = space[\"colsample_bynode\"],\n",
    "                            reg_alpha = int(space[\"reg_alpha\"]),\n",
    "                            reg_lambda = space[\"reg_lambda\"],\n",
    "                            eval_metric='mlogloss',\n",
    "                            use_label_encoder = False,\n",
    "                            random_state = 42)\n",
    "    \n",
    "    imba_pipeline = make_pipeline(SMOTE(random_state = 42), clf)\n",
    "    ftest_score = cross_val_score(imba_pipeline, X_train, y_train, scoring = ftest, cv = kf).mean()\n",
    "    return {\"loss\": -ftest_score, \"status\": STATUS_OK}"
   ]
  },
  {
   "cell_type": "code",
   "execution_count": 442,
   "id": "sustained-affiliate",
   "metadata": {},
   "outputs": [
    {
     "name": "stdout",
     "output_type": "stream",
     "text": [
      "100%|██████████| 100/100 [05:43<00:00,  3.44s/trial, best loss: -0.8394794876419388]\n"
     ]
    }
   ],
   "source": [
    "trials = Trials()\n",
    "params = fmin(fn = objectiveTest, space = space, algo = tpe.suggest, max_evals = 100, trials = trials)"
   ]
  },
  {
   "cell_type": "code",
   "execution_count": 443,
   "id": "registered-requirement",
   "metadata": {},
   "outputs": [],
   "source": [
    "params[\"use_label_encoder\"] = False\n",
    "params[\"n_estimators\"] = 180\n",
    "params[\"max_delta_step\"] = int(params[\"max_delta_step\"])\n",
    "params[\"max_depth\"] = int(params[\"max_depth\"])\n",
    "params[\"min_child_weight\"] = int(params[\"min_child_weight\"])\n",
    "params[\"reg_alpha\"] = int(params[\"reg_alpha\"])\n",
    "params[\"eval_metric\"] = \"mlogloss\"\n",
    "params[\"random_state\"] = 42"
   ]
  },
  {
   "cell_type": "code",
   "execution_count": 444,
   "id": "english-matthew",
   "metadata": {},
   "outputs": [],
   "source": [
    "xgbc = xgb.XGBClassifier(**params)"
   ]
  },
  {
   "cell_type": "code",
   "execution_count": 446,
   "id": "pending-vienna",
   "metadata": {},
   "outputs": [
    {
     "data": {
      "text/plain": [
       "XGBClassifier(base_score=0.5, booster='gbtree',\n",
       "              colsample_bylevel=0.30525398555572325,\n",
       "              colsample_bynode=0.6755993948310463,\n",
       "              colsample_bytree=0.4205689139815138, enable_categorical=False,\n",
       "              eta=0.0017767254224281825, eval_metric='mlogloss',\n",
       "              gamma=1.1362256618169027, gpu_id=-1, importance_type=None,\n",
       "              interaction_constraints='', learning_rate=0.0017767254,\n",
       "              max_delta_step=48, max_depth=15, min_child_weight=9, missing=nan,\n",
       "              monotone_constraints='()', n_estimators=180, n_jobs=8,\n",
       "              num_parallel_tree=1, predictor='auto', random_state=42,\n",
       "              reg_alpha=179, reg_lambda=0.12910067390940383, scale_pos_weight=1,\n",
       "              subsample=0.23520764304268482, tree_method='exact',\n",
       "              use_label_encoder=False, validate_parameters=1, ...)"
      ]
     },
     "execution_count": 446,
     "metadata": {},
     "output_type": "execute_result"
    }
   ],
   "source": [
    "xgbc.fit(X_train_os, y_train_os)"
   ]
  },
  {
   "cell_type": "code",
   "execution_count": 448,
   "id": "filled-skirt",
   "metadata": {},
   "outputs": [
    {
     "name": "stdout",
     "output_type": "stream",
     "text": [
      "Accuracy: 0.6172106824925816\n",
      "Precision: 0.06703397612488522\n",
      "Recall: 0.8202247191011236\n",
      "f1: 0.12393887945670629\n",
      "f2: 0.8193042445816299\n",
      "AUC: 0.7152523672222151\n"
     ]
    }
   ],
   "source": [
    "y_pred = pd.Series(xgbc.predict(X_test))\n",
    "print(f\"Accuracy: {accuracy_score(y_test, y_pred)}\")\n",
    "print(f\"Precision: {precision_score(y_test, y_pred)}\")\n",
    "print(f\"Recall: {recall_score(y_test, y_pred)}\")\n",
    "print(f\"f1: {f1_score(y_test, y_pred)}\")\n",
    "print(f\"f2: {fbeta_score(y_test, y_pred, beta = 100)}\")\n",
    "print(f\"AUC: {roc_auc_score(y_test, y_pred)}\")"
   ]
  },
  {
   "cell_type": "code",
   "execution_count": 465,
   "id": "photographic-physics",
   "metadata": {},
   "outputs": [
    {
     "data": {
      "image/png": "[encoded data removed]",
      "text/plain": [
       "<Figure size 432x288 with 2 Axes>"
      ]
     },
     "metadata": {
      "needs_background": "light"
     },
     "output_type": "display_data"
    }
   ],
   "source": [
    "disp = ConfusionMatrixDisplay.from_estimator(xgbc, X_test, y_test)\n",
    "plt.xlabel('Predicted Label', fontsize = 18)\n",
    "plt.ylabel('Actual Label', fontsize = 18)\n",
    "plt.title('Confusion Matrix', fontsize = 18)\n",
    "plt.show()"
   ]
  },
  {
   "cell_type": "code",
   "execution_count": null,
   "id": "derived-cornell",
   "metadata": {},
   "outputs": [],
   "source": []
  }
 ],
 "metadata": {
  "kernelspec": {
   "display_name": "Python 3",
   "language": "python",
   "name": "python3"
  },
  "language_info": {
   "codemirror_mode": {
    "name": "ipython",
    "version": 3
   },
   "file_extension": ".py",
   "mimetype": "text/x-python",
   "name": "python",
   "nbconvert_exporter": "python",
   "pygments_lexer": "ipython3",
   "version": "3.9.7"
  }
 },
 "nbformat": 4,
 "nbformat_minor": 5
}
