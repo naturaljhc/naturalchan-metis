{
 "cells": [
  {
   "cell_type": "code",
   "execution_count": 107,
   "id": "ethical-confirmation",
   "metadata": {},
   "outputs": [],
   "source": [
    "import pandas as pd\n",
    "import numpy as np\n",
    "from sklearn.model_selection import train_test_split\n",
    "from sklearn.tree import DecisionTreeClassifier\n",
    "from sklearn.metrics import accuracy_score, precision_score, recall_score, f1_score, confusion_matrix\n",
    "import matplotlib.pyplot as plt\n",
    "import seaborn as sns"
   ]
  },
  {
   "cell_type": "code",
   "execution_count": 2,
   "id": "hungarian-turner",
   "metadata": {},
   "outputs": [],
   "source": [
    "df = pd.read_csv('p4clean.csv')"
   ]
  },
  {
   "cell_type": "code",
   "execution_count": 20,
   "id": "stone-correlation",
   "metadata": {},
   "outputs": [],
   "source": [
    "df[\"JOB_SEARCH\"] = df[\"JOB_SEARCH\"].fillna(0)"
   ]
  },
  {
   "cell_type": "code",
   "execution_count": 179,
   "id": "enhanced-indonesian",
   "metadata": {},
   "outputs": [],
   "source": [
    "X = df.drop(\"JOB_SEARCH\", axis = 1)\n",
    "X = X.fillna(-999)\n",
    "#X = df[\"JOB_SATISFACTION\"]\n",
    "#X = pd.DataFrame(X)\n",
    "y = df[\"JOB_SEARCH\"]"
   ]
  },
  {
   "cell_type": "code",
   "execution_count": 168,
   "id": "endless-southwest",
   "metadata": {},
   "outputs": [],
   "source": [
    "X_train, X_test, y_train, y_test = train_test_split(X, y, test_size = .3, random_state = 42)"
   ]
  },
  {
   "cell_type": "code",
   "execution_count": 169,
   "id": "described-belly",
   "metadata": {},
   "outputs": [
    {
     "data": {
      "text/plain": [
       "DecisionTreeClassifier()"
      ]
     },
     "execution_count": 169,
     "metadata": {},
     "output_type": "execute_result"
    }
   ],
   "source": [
    "clf = DecisionTreeClassifier()\n",
    "clf.fit(X_train, y_train)"
   ]
  },
  {
   "cell_type": "code",
   "execution_count": 170,
   "id": "auburn-morris",
   "metadata": {},
   "outputs": [],
   "source": [
    "y_pred = pd.Series(clf.predict(X_test))"
   ]
  },
  {
   "cell_type": "code",
   "execution_count": 176,
   "id": "normal-giving",
   "metadata": {},
   "outputs": [
    {
     "name": "stdout",
     "output_type": "stream",
     "text": [
      "Accuracy: 0.93026706231454\n",
      "Precision: 0.061946902654867256\n",
      "Recall: 0.07865168539325842\n",
      "F1: 0.0693069306930693\n"
     ]
    }
   ],
   "source": [
    "print(f\"Accuracy: {accuracy_score(y_test, y_pred)}\")\n",
    "print(f\"Precision: {precision_score(y_test, y_pred)}\")\n",
    "print(f\"Recall: {recall_score(y_test, y_pred)}\")\n",
    "print(f\"F1: {f1_score(y_test, y_pred)}\")"
   ]
  },
  {
   "cell_type": "code",
   "execution_count": 151,
   "id": "noble-dragon",
   "metadata": {},
   "outputs": [
    {
     "data": {
      "text/plain": [
       "array([[2509,   98],\n",
       "       [  80,    9]])"
      ]
     },
     "execution_count": 151,
     "metadata": {},
     "output_type": "execute_result"
    }
   ],
   "source": [
    "confusion_matrix(y_test, y_pred)"
   ]
  },
  {
   "cell_type": "code",
   "execution_count": 153,
   "id": "welsh-teaching",
   "metadata": {},
   "outputs": [],
   "source": [
    "ploty = y.astype(\"int64\")"
   ]
  },
  {
   "cell_type": "code",
   "execution_count": 154,
   "id": "executed-floating",
   "metadata": {},
   "outputs": [
    {
     "name": "stderr",
     "output_type": "stream",
     "text": [
      "<ipython-input-154-c10f216aff12>:5: UserWarning: FixedFormatter should only be used together with FixedLocator\n",
      "  ax.set_yticklabels(ax.get_yticks().astype(\"int64\"), size = 16)\n"
     ]
    },
    {
     "data": {
      "image/png": "[encoded data removed]",
      "text/plain": [
       "<Figure size 432x288 with 1 Axes>"
      ]
     },
     "metadata": {
      "needs_background": "light"
     },
     "output_type": "display_data"
    }
   ],
   "source": [
    "ax = sns.histplot(ploty, bins = 2)\n",
    "ax.set_xlabel(\"Searching for a Job\", fontsize = 20)\n",
    "ax.set_ylabel(\"Count\", fontsize = 20)\n",
    "ax.set_xticks([.25, .75], [\"Not Searching\", \"Searching\"], fontsize = 16)\n",
    "ax.set_yticklabels(ax.get_yticks().astype(\"int64\"), size = 16)\n",
    "ax.set_title(\"# of People Searching for a Job\", size = 20)\n",
    "plt.tight_layout()\n",
    "plt.savefig(\"dist.png\")"
   ]
  },
  {
   "cell_type": "code",
   "execution_count": null,
   "id": "aquatic-renaissance",
   "metadata": {},
   "outputs": [],
   "source": []
  }
 ],
 "metadata": {
  "kernelspec": {
   "display_name": "Python 3",
   "language": "python",
   "name": "python3"
  },
  "language_info": {
   "codemirror_mode": {
    "name": "ipython",
    "version": 3
   },
   "file_extension": ".py",
   "mimetype": "text/x-python",
   "name": "python",
   "nbconvert_exporter": "python",
   "pygments_lexer": "ipython3",
   "version": "3.9.7"
  }
 },
 "nbformat": 4,
 "nbformat_minor": 5
}
